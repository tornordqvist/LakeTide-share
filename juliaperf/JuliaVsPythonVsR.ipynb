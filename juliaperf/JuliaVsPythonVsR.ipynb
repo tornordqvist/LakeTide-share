{
 "cells": [
  {
   "cell_type": "markdown",
   "metadata": {},
   "source": [
    "It's been a year and a half since I blogged about why Julia is an awesome programming language for data scientists. I wanted to follow up the post by drawing attention to the role __performance__ can have, especially when working interactively. It might not be immediately clear exactly how much is being given up by running a language like R or Python for mathematics and scientific computation. Moreover, the syntax of Julia, especially with support for UTF8, is really a pleasure when doing data science.\n",
    "\n",
    "I'll exemplify on my laptop, a Dell XPS with a Core i7-7700HQ @ 2.80GHz\n",
    "\n",
    "The example is a golden oldie, namely the [Escape Time Algorithm](https://en.wikipedia.org/wiki/Mandelbrot_set#Escape_time_algorithm) for rendering the [Julia set](https://en.wikipedia.org/wiki/Julia_set) using the quadratic polynomial: $f_c(z)=z^2+c$ and the complex parameter $(\\varphi-2) + (\\varphi-1)i$\n",
    "\n",
    "Let's GO!"
   ]
  },
  {
   "cell_type": "markdown",
   "metadata": {},
   "source": [
    "# JULIA 0.6.0"
   ]
  },
  {
   "cell_type": "code",
   "execution_count": 2,
   "metadata": {},
   "outputs": [
    {
     "name": "stdout",
     "output_type": "stream",
     "text": [
      "elapsed time: 4.523818 seconds\n"
     ]
    },
    {
     "data": {
      "text/plain": [
       "4.523818"
      ]
     },
     "execution_count": 2,
     "metadata": {},
     "output_type": "execute_result"
    }
   ],
   "source": [
    "detail = 1000; h = 6000; w = 6000\n",
    "bitmap = zeros(h,w)\n",
    "c = (φ-2) + (φ-1)im\n",
    "\n",
    "function fractal(z, c, lod)\n",
    "    for i in 1 : lod\n",
    "        (abs(z) > 2) ? (return i) : (z = z^2 + c) \n",
    "    end\n",
    "    return lod\n",
    "end\n",
    "\n",
    "function generate(bitmap, w, h, c, lod)\n",
    "    for x in 1:w, y in 1:h\n",
    "        z = (3*(x-w/2)/w) + (3*(y-h/2)/h)im\n",
    "        bitmap[y,x] = fractal(z, c, lod) / lod\n",
    "    end\n",
    "    return bitmap\n",
    "end\n",
    "\n",
    "tic()\n",
    "image = generate(bitmap, w, h, c, detail)\n",
    "toc()"
   ]
  },
  {
   "cell_type": "code",
   "execution_count": 6,
   "metadata": {
    "scrolled": false
   },
   "outputs": [
    {
     "data": {
      "image/png": "[encoded data removed]",
      "text/plain": [
       "300×300 Array{Gray24{N0f8},2}:\n",
       " Gray24{N0f8}(0x00020202)  …  Gray24{N0f8}(0x00020202)\n",
       " Gray24{N0f8}(0x00020202)     Gray24{N0f8}(0x00020202)\n",
       " Gray24{N0f8}(0x00020202)     Gray24{N0f8}(0x00020202)\n",
       " Gray24{N0f8}(0x00020202)     Gray24{N0f8}(0x00020202)\n",
       " Gray24{N0f8}(0x00020202)     Gray24{N0f8}(0x00020202)\n",
       " Gray24{N0f8}(0x00020202)  …  Gray24{N0f8}(0x00020202)\n",
       " Gray24{N0f8}(0x00020202)     Gray24{N0f8}(0x00020202)\n",
       " Gray24{N0f8}(0x00020202)     Gray24{N0f8}(0x00020202)\n",
       " Gray24{N0f8}(0x00020202)     Gray24{N0f8}(0x00020202)\n",
       " Gray24{N0f8}(0x00020202)     Gray24{N0f8}(0x00020202)\n",
       " Gray24{N0f8}(0x00020202)  …  Gray24{N0f8}(0x00020202)\n",
       " Gray24{N0f8}(0x00020202)     Gray24{N0f8}(0x00020202)\n",
       " Gray24{N0f8}(0x00020202)     Gray24{N0f8}(0x00020202)\n",
       " ⋮                         ⋱                          \n",
       " Gray24{N0f8}(0x00020202)     Gray24{N0f8}(0x00020202)\n",
       " Gray24{N0f8}(0x00020202)     Gray24{N0f8}(0x00020202)\n",
       " Gray24{N0f8}(0x00020202)  …  Gray24{N0f8}(0x00020202)\n",
       " Gray24{N0f8}(0x00020202)     Gray24{N0f8}(0x00020202)\n",
       " Gray24{N0f8}(0x00020202)     Gray24{N0f8}(0x00020202)\n",
       " Gray24{N0f8}(0x00020202)     Gray24{N0f8}(0x00020202)\n",
       " Gray24{N0f8}(0x00020202)     Gray24{N0f8}(0x00020202)\n",
       " Gray24{N0f8}(0x00020202)  …  Gray24{N0f8}(0x00020202)\n",
       " Gray24{N0f8}(0x00020202)     Gray24{N0f8}(0x00020202)\n",
       " Gray24{N0f8}(0x00020202)     Gray24{N0f8}(0x00020202)\n",
       " Gray24{N0f8}(0x00020202)     Gray24{N0f8}(0x00020202)\n",
       " Gray24{N0f8}(0x00020202)     Gray24{N0f8}(0x00020202)"
      ]
     },
     "execution_count": 6,
     "metadata": {},
     "output_type": "execute_result"
    }
   ],
   "source": [
    "using Colors, Images\n",
    "Array{Gray24}(image)"
   ]
  },
  {
   "cell_type": "markdown",
   "metadata": {},
   "source": [
    "Let's try a tweak just because it's so easy, namely parallelizing the for loop."
   ]
  },
  {
   "cell_type": "code",
   "execution_count": 3,
   "metadata": {
    "scrolled": true
   },
   "outputs": [
    {
     "name": "stdout",
     "output_type": "stream",
     "text": [
      "elapsed time: 1.490306 seconds\n"
     ]
    },
    {
     "data": {
      "text/plain": [
       "1.490306"
      ]
     },
     "execution_count": 3,
     "metadata": {},
     "output_type": "execute_result"
    }
   ],
   "source": [
    "function generate(bitmap, w, h, c, lod)\n",
    "    Threads.@threads for x in 1:w\n",
    "        for y in 1:h\n",
    "            z = (3*(x-w/2)/w) + (3*(y-h/2)/h)im\n",
    "            bitmap[y,x] = fractal(z, c, lod) / lod\n",
    "        end\n",
    "    end\n",
    "    return bitmap\n",
    "end\n",
    "\n",
    "tic() \n",
    "image = generate(bitmap, w, h, c, detail)\n",
    "toc()"
   ]
  },
  {
   "cell_type": "markdown",
   "metadata": {},
   "source": [
    "The algorithm finished in a bit over 1 second. Pretty fast!\n",
    "\n",
    "Let's try the same thing in Python.\n",
    "\n",
    "# PYTHON 3.5.2"
   ]
  },
  {
   "cell_type": "code",
   "execution_count": 1,
   "metadata": {},
   "outputs": [
    {
     "data": {
      "text/plain": [
       "179.79193115234375"
      ]
     },
     "execution_count": 1,
     "metadata": {},
     "output_type": "execute_result"
    }
   ],
   "source": [
    "import time\n",
    "import numpy\n",
    "\n",
    "detail = 1000; h = 6000; w = 6000\n",
    "bitmap = numpy.zeros((h,w))\n",
    "c = -0.3819660112501051 + 0.6180339887498949j\n",
    "\n",
    "def fractal(z, c, lod):\n",
    "    for i in range(lod):\n",
    "        if abs(z) > 2:\n",
    "            return i+1\n",
    "        z = z * z + c\n",
    "    return lod;\n",
    "        \n",
    "def generate(bitmap, w, h, c, lod):\n",
    "    for x, y in numpy.ndindex(bitmap.shape):\n",
    "        z = complex(3*(x+1-w/2)/w, 3*(y+1-h/2)/h)\n",
    "        bitmap[y,x] = fractal(z, c, lod) / lod           \n",
    "    return bitmap;\n",
    "                \n",
    "t1 = time.time()\n",
    "image = generate(bitmap, w, h, c, detail)\n",
    "t0 = time.time()\n",
    "t0-t1"
   ]
  },
  {
   "cell_type": "markdown",
   "metadata": {},
   "source": [
    "About 3 minutes. Python was ~40x slower than single-threaded Julia. Hmm...\n",
    "\n",
    "Let's try the same thing in R.\n",
    "\n",
    "# R 3.2.3"
   ]
  },
  {
   "cell_type": "code",
   "execution_count": 1,
   "metadata": {},
   "outputs": [
    {
     "name": "stdout",
     "output_type": "stream",
     "text": [
      "Time difference of 8.692687 mins\n"
     ]
    }
   ],
   "source": [
    "detail <- 1000; h <- 6000; w <- 6000\n",
    "bitmap <- matrix(0, h, w)\n",
    "c <- complex(real=-0.3819660112501051,imaginary=0.6180339887498949)\n",
    "\n",
    "fractal <- function(z, c, max) {\n",
    "    for (i in 1:max) {\n",
    "        if (Mod(z) > 2) return(i)\n",
    "        z <- z^2 + c\n",
    "    }\n",
    "    return(max)\n",
    "}\n",
    "\n",
    "generate <- function(bitmap, w, h, c, lod) {\n",
    "    for (x in 1:w) { \n",
    "        for (y in 1:h) {\n",
    "            z <- complex(real=(3*(x-w/2)/w), imaginary=(3*(y-h/2)/h))\n",
    "            bitmap[x,y] <- fractal(z, c, lod) / lod\n",
    "        }\n",
    "    }\n",
    "    return(bitmap)\n",
    "}\n",
    "    \n",
    "t0 <- Sys.time()\n",
    "bitmap <- generate(bitmap, w, h, c, detail)\n",
    "t1 <- Sys.time()\n",
    "print(t1-t0)   "
   ]
  },
  {
   "cell_type": "markdown",
   "metadata": {},
   "source": [
    "I laughed when I saw a question on Quora asking what statisticians do while their code is running. Now I understand. The R code was over ~120x slower!\n",
    "\n",
    "I'd like to nip a small intejection right at the bud. We all know that to get good performance in R (and other interpreted languages) the ~~code~~ entire algorithm needs to be refactored so that it's \"vectorized\". That way hot code can be offloaded to a faster language (like BLAS functions written in Fortran) without having to make an expensive function call for every element of a data set. The downside is that it's not always possible, and when it is possible, it can force you to express algorithms in a very contrived way.\n",
    "\n",
    "But, to be fair, let's try the R version again in vector form and watch the performance improve:"
   ]
  },
  {
   "cell_type": "code",
   "execution_count": 9,
   "metadata": {},
   "outputs": [
    {
     "name": "stdout",
     "output_type": "stream",
     "text": [
      "Time difference of 12.24876 mins\n"
     ]
    }
   ],
   "source": [
    "detail <- 1000; h <- 6000; w <- 6000\n",
    "z <- matrix(0.0, h, w)\n",
    "k <- matrix(0.0, h, w)\n",
    "x <- seq(0, h)\n",
    "y <- seq(0, w)\n",
    "t0 <- Sys.time()\n",
    "c <- outer(x*-0.3819660112501051,y*0.6180339887498949i,FUN=\"+\")\n",
    "for (rep in 1:detail) { \n",
    "    index <- which(Mod(z) < 2)\n",
    "    z[index] <- z[index]^2 + c[index]\n",
    "    k[index] <- k[index] + 1\n",
    "}\n",
    "t1 <- Sys.time()\n",
    "print(t1-t0)"
   ]
  },
  {
   "cell_type": "markdown",
   "metadata": {},
   "source": [
    "12 minutes!!? It was supposed to be faster! That stinks. Testing this R code on a smaller 300x300 matrix confirms that it is actually quite a bit faster than the non-vectorized version. But given a 6000x6000 matrix, it ends up being __~2x slower__ and uses __5x more memory__. Oh well. :(\n",
    "\n",
    "Obviously, one could achieve optimal performance on the fractal algorithm by hand-rolling it in bare assembly language, but I think most data scientists have more interesting things to do. If you can write code that looks great, with less effort, and have great performance all at once, why wouldn't you? Coincidentally, it's very easy to analyze the assembly code of inner loops in Julia, but that's another blog post. ;-) \n",
    "\n",
    "Happy hacking!\n",
    "\n",
    "# JULIA 0.6.0"
   ]
  },
  {
   "cell_type": "code",
   "execution_count": 4,
   "metadata": {},
   "outputs": [
    {
     "name": "stdout",
     "output_type": "stream",
     "text": [
      "\t.text\n",
      "Filename: In[2]\n",
      "\tpushq\t%rbp\n",
      "\tmovq\t%rsp, %rbp\n",
      "\tpushq\t%r15\n",
      "\tpushq\t%r14\n",
      "\tpushq\t%r13\n",
      "\tpushq\t%r12\n",
      "\tpushq\t%rbx\n",
      "\tpushq\t%rax\n",
      "\tmovq\t%rdx, %r14\n",
      "\tmovq\t%rsi, %r15\n",
      "Source line: 6\n",
      "\ttestq\t%r14, %r14\n",
      "\tjle\tL135\n",
      "\tmovq\t(%rdi), %r12\n",
      "\tmovq\t8(%rdi), %rbx\n",
      "\txorl\t%r13d, %r13d\n",
      "\tmovabsq\t$139943019581136, %rax  # imm = 0x7F4705F88ED0\n",
      "\tvmovsd\t(%rax), %xmm0           # xmm0 = mem[0],zero\n",
      "\tvmovsd\t%xmm0, -48(%rbp)\n",
      "\tnopw\t%cs:(%rax,%rax)\n",
      "Source line: 7\n",
      "L64:\n",
      "\tmovq\t%r12, %rdi\n",
      "\tmovq\t%rbx, %rsi\n",
      "\tmovabsq\t$hypot, %rax\n",
      "\tcallq\t*%rax\n",
      "\tvucomisd\t-48(%rbp), %xmm0\n",
      "\tja\tL128\n",
      "\tmovq\t%rbx, %rax\n",
      "\timulq\t%r12, %rbx\n",
      "\timulq\t%r12, %r12\n",
      "\timulq\t%rax, %rax\n",
      "\tsubq\t%rax, %r12\n",
      "\taddq\t%rbx, %rbx\n",
      "\taddq\t(%r15), %r12\n",
      "\taddq\t8(%r15), %rbx\n",
      "Source line: 6\n",
      "\taddq\t$1, %r13\n",
      "\tcmpq\t%r13, %r14\n",
      "\tjne\tL64\n",
      "\tjmp\tL135\n",
      "Source line: 7\n",
      "L128:\n",
      "\taddq\t$1, %r13\n",
      "\tmovq\t%r13, %r14\n",
      "Source line: 9\n",
      "L135:\n",
      "\tmovq\t%r14, %rax\n",
      "\taddq\t$8, %rsp\n",
      "\tpopq\t%rbx\n",
      "\tpopq\t%r12\n",
      "\tpopq\t%r13\n",
      "\tpopq\t%r14\n",
      "\tpopq\t%r15\n",
      "\tpopq\t%rbp\n",
      "\tretq\n",
      "\tnopl\t(%rax)\n"
     ]
    }
   ],
   "source": [
    "@code_native fractal(1im,1im,1)"
   ]
  }
 ],
 "metadata": {
  "kernelspec": {
   "display_name": "Julia 0.6",
   "language": "julia",
   "name": "julia"
  },
  "language_info": {
   "file_extension": ".jl",
   "mimetype": "application/julia",
   "name": "julia",
   "version": "0.6.0"
  }
 },
 "nbformat": 4,
 "nbformat_minor": 2
}
