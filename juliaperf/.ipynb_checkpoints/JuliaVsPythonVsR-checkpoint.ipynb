{
 "cells": [
  {
   "cell_type": "markdown",
   "metadata": {},
   "source": [
    "R and Python are extremely popular languages, especially with scientists who need to program computers to get work done but don't want to write complicated low-level code. The question is, what is being left on the table for the sake of convenience? \n",
    "\n",
    "It's been over a year since I blogged about the Julia language and why it's awesome. In this post I want to follow up by comparing it to __R and Python__, starting with their comparatively __abysmal  performance__.\n",
    "\n",
    "I'll exemplify on my laptop, a Dell XPS with a Core i7-7700HQ @ 2.80GHz\n",
    "\n",
    "The algorithm is a golden oldie, namely the [Escape Time Algorithm](https://en.wikipedia.org/wiki/Mandelbrot_set#Escape_time_algorithm) for rendering the [Julia set](https://en.wikipedia.org/wiki/Julia_set) using the quadratic polynomial: $f_c(z)=z^2+c$ and the complex parameter $(\\varphi-2) + (\\varphi-1)i$\n",
    "\n",
    "Let's GO!"
   ]
  },
  {
   "cell_type": "markdown",
   "metadata": {},
   "source": [
    "# Julia 0.6.0"
   ]
  },
  {
   "cell_type": "code",
   "execution_count": 15,
   "metadata": {},
   "outputs": [
    {
     "name": "stdout",
     "output_type": "stream",
     "text": [
      "  2.581849 seconds (5.70 k allocations: 290.148 KiB)\n"
     ]
    }
   ],
   "source": [
    "# set the detail level of the fractal\n",
    "# set the resolution of the resulting bitmap\n",
    "detail = 1000; h = 6000; w = 6000\n",
    "bitmap = zeros(h,w)\n",
    "# this parameter defines the shape of the fractal \n",
    "c = (φ-2) + (φ-1)im     # the phi UTF8 character!\n",
    "\n",
    "function fractal(z, c, lod)\n",
    "    for i in 1 : lod\n",
    "        # return the step at which the orbit sequence tends to infinity\n",
    "        # this usually happens if |z| is greater than 2\n",
    "        (abs2(z) > 2) ? (return i) : (z = z^2 + c) \n",
    "    end\n",
    "    return lod\n",
    "end\n",
    "\n",
    "function generate(bitmap, w, h, c, lod)\n",
    "    for x in 1:w, y in 1:h\n",
    "        # scale the fractal in proportion to the bitmap\n",
    "        z = (3*(x-w/2)/w) + (3*(y-h/2)/h)im\n",
    "        bitmap[y,x] = fractal(z, c, lod) / lod\n",
    "    end\n",
    "    return bitmap\n",
    "end\n",
    "\n",
    "@time image = generate(bitmap, w, h, c, detail);"
   ]
  },
  {
   "cell_type": "code",
   "execution_count": 8,
   "metadata": {
    "scrolled": false
   },
   "outputs": [
    {
     "data": {
      "image/png": "[encoded data removed]",
      "text/plain": [
       "300×300 Array{Gray24{N0f8},2}:\n",
       " Gray24{N0f8}(0x00030303)  …  Gray24{N0f8}(0x00030303)\n",
       " Gray24{N0f8}(0x00030303)     Gray24{N0f8}(0x00030303)\n",
       " Gray24{N0f8}(0x00030303)     Gray24{N0f8}(0x00030303)\n",
       " Gray24{N0f8}(0x00030303)     Gray24{N0f8}(0x00030303)\n",
       " Gray24{N0f8}(0x00030303)     Gray24{N0f8}(0x00030303)\n",
       " Gray24{N0f8}(0x00030303)  …  Gray24{N0f8}(0x00030303)\n",
       " Gray24{N0f8}(0x00030303)     Gray24{N0f8}(0x00030303)\n",
       " Gray24{N0f8}(0x00030303)     Gray24{N0f8}(0x00030303)\n",
       " Gray24{N0f8}(0x00030303)     Gray24{N0f8}(0x00030303)\n",
       " Gray24{N0f8}(0x00030303)     Gray24{N0f8}(0x00030303)\n",
       " Gray24{N0f8}(0x00030303)  …  Gray24{N0f8}(0x00030303)\n",
       " Gray24{N0f8}(0x00030303)     Gray24{N0f8}(0x00030303)\n",
       " Gray24{N0f8}(0x00030303)     Gray24{N0f8}(0x00030303)\n",
       " ⋮                         ⋱                          \n",
       " Gray24{N0f8}(0x00030303)     Gray24{N0f8}(0x00030303)\n",
       " Gray24{N0f8}(0x00030303)     Gray24{N0f8}(0x00030303)\n",
       " Gray24{N0f8}(0x00030303)  …  Gray24{N0f8}(0x00030303)\n",
       " Gray24{N0f8}(0x00030303)     Gray24{N0f8}(0x00030303)\n",
       " Gray24{N0f8}(0x00030303)     Gray24{N0f8}(0x00030303)\n",
       " Gray24{N0f8}(0x00030303)     Gray24{N0f8}(0x00030303)\n",
       " Gray24{N0f8}(0x00030303)     Gray24{N0f8}(0x00030303)\n",
       " Gray24{N0f8}(0x00030303)  …  Gray24{N0f8}(0x00030303)\n",
       " Gray24{N0f8}(0x00030303)     Gray24{N0f8}(0x00030303)\n",
       " Gray24{N0f8}(0x00030303)     Gray24{N0f8}(0x00030303)\n",
       " Gray24{N0f8}(0x00030303)     Gray24{N0f8}(0x00030303)\n",
       " Gray24{N0f8}(0x00030303)     Gray24{N0f8}(0x00030303)"
      ]
     },
     "execution_count": 8,
     "metadata": {},
     "output_type": "execute_result"
    }
   ],
   "source": [
    "using Colors, Images\n",
    "Array{Gray24}(image)"
   ]
  },
  {
   "cell_type": "markdown",
   "metadata": {},
   "source": [
    "The algorithm finished in a bit over __2 seconds__. Sweet.\n",
    "\n",
    "Let's try the same thing in Python.\n",
    "\n",
    "# CPython 3.5.2"
   ]
  },
  {
   "cell_type": "code",
   "execution_count": 1,
   "metadata": {},
   "outputs": [
    {
     "data": {
      "text/plain": [
       "179.79193115234375"
      ]
     },
     "execution_count": 1,
     "metadata": {},
     "output_type": "execute_result"
    }
   ],
   "source": [
    "import time\n",
    "import numpy\n",
    "\n",
    "detail = 1000; h = 6000; w = 6000\n",
    "bitmap = numpy.zeros((h,w))\n",
    "c = -0.3819660112501051 + 0.6180339887498949j\n",
    "\n",
    "def fractal(z, c, lod):\n",
    "    for i in range(lod):\n",
    "        if abs(z) > 2:\n",
    "            return i\n",
    "        # z*z is not as good looking as z^2 but more performant\n",
    "        z = z * z + c\n",
    "    return lod;\n",
    "        \n",
    "def generate(bitmap, w, h, c, lod):\n",
    "    for x, y in numpy.ndindex(bitmap.shape):\n",
    "        # too bad we can't just append 'j' to make it complex\n",
    "        z = complex(3*(x+1-w/2)/w, 3*(y+1-h/2)/h)\n",
    "        bitmap[y,x] = fractal(z, c, lod) / lod           \n",
    "    return bitmap;\n",
    "                \n",
    "t1 = time.time()\n",
    "image = generate(bitmap, w, h, c, detail)\n",
    "t0 = time.time()\n",
    "t0-t1"
   ]
  },
  {
   "cell_type": "markdown",
   "metadata": {},
   "source": [
    "Python took about 3 minutes. It was ~72x slower than Julia. Hmm...\n",
    "\n",
    "The code is fairly legible in this example, though we see in the double nested loop a preview of the sort of object-oriented syntax that quickly obfuscates mathematical formulas. I purposefully wrote this code the way one might do on a first implementation of an algorithm after finding pseudo-code in a math book or after reading some formulas. But we could probably make this run faster right?\n",
    "\n",
    "We are all taught that to get good performance in R and Python, the ~~code~~ entire algorithm needs to be refactored so that it's \"vectorized\". That way hot code can be offloaded to a faster language (like BLAS functions written in Fortran) without having to make an expensive function call for every element of a data set. This sort of vectorization is not always simple or possible, and when it is possible, it can force you to express algorithms in a very contrived way. But before we compare vectorized code with regular code, let's try running the algorithm again in R.\n",
    "\n",
    "# R 3.2.3"
   ]
  },
  {
   "cell_type": "code",
   "execution_count": 1,
   "metadata": {},
   "outputs": [
    {
     "name": "stdout",
     "output_type": "stream",
     "text": [
      "Time difference of 8.088174 mins\n"
     ]
    }
   ],
   "source": [
    "detail <- 1000; h <- 6000; w <- 6000\n",
    "bitmap <- matrix(0, h, w)\n",
    "# support for complex numbers isn't as pretty as it could be\n",
    "c <- complex(real=-0.3819660112501051,imaginary=0.6180339887498949)\n",
    "\n",
    "fractal <- function(z, c, max) {\n",
    "    for (i in 1:max) {\n",
    "        if (Mod(z) > 2) return(i)\n",
    "        z <- z^2 + c\n",
    "    }\n",
    "    return(max)\n",
    "}\n",
    "\n",
    "generate <- function(bitmap, w, h, c, lod) {\n",
    "    for (x in 1:w) { \n",
    "        for (y in 1:h) {\n",
    "            z <- complex(real=(3*(x-w/2)/w), imaginary=(3*(y-h/2)/h))\n",
    "            bitmap[x,y] <- fractal(z, c, lod) / lod\n",
    "        }\n",
    "    }\n",
    "    return(bitmap)\n",
    "}\n",
    "    \n",
    "t0 <- Sys.time()\n",
    "bitmap <- generate(bitmap, w, h, c, detail)\n",
    "t1 <- Sys.time()\n",
    "print(t1-t0)   "
   ]
  },
  {
   "cell_type": "markdown",
   "metadata": {},
   "source": [
    "I laughed when I saw a question on Quora asking what statisticians do while their code is running. Now I understand. __The R code is ~200x slower than Julia__!\n",
    "\n",
    "That's no good. It's time to pull out our secret weapon: vectorized code!!"
   ]
  },
  {
   "cell_type": "code",
   "execution_count": 9,
   "metadata": {},
   "outputs": [
    {
     "name": "stdout",
     "output_type": "stream",
     "text": [
      "Time difference of 12.24876 mins\n"
     ]
    }
   ],
   "source": [
    "detail <- 1000; h <- 6000; w <- 6000\n",
    "z <- matrix(0.0, h, w)\n",
    "k <- matrix(0.0, h, w)\n",
    "x <- seq(0, h)\n",
    "y <- seq(0, w)\n",
    "t0 <- Sys.time()\n",
    "c <- outer(x*-0.3819660112501051,y*0.6180339887498949i,FUN=\"+\")\n",
    "for (rep in 1:detail) { \n",
    "    index <- which(Mod(z) < 2)\n",
    "    z[index] <- z[index]^2 + c[index]\n",
    "    k[index] <- k[index] + 1\n",
    "}\n",
    "t1 <- Sys.time()\n",
    "print(t1-t0)"
   ]
  },
  {
   "cell_type": "markdown",
   "metadata": {},
   "source": [
    "12 minutes!!? It was supposed to be faster! That stinks. Testing this R code on a smaller 300x300 matrix confirms that it is actually quite a bit faster than the non-vectorized version. But given a 6000x6000 matrix, it ends up being __~2x slower__ and uses __5x more memory__. Inefficient memory access ends up slowing down the code rather than speeding it up. :(\n",
    "\n",
    "__Python can't even finish in vectorized form__, and crashes with memory overflow errors. The popular mantra that vectorized code is always faster, was simply not true this time. \n",
    "\n",
    "At this point you might be thinking of different ways to speed up the R and Python code, but all of that is beside the point; Julia has many tricks left up its sleeve as well. These comparisons were not meant to be \"fair\" benchmarks, as if there were such a thing. So with full-knowledge that this short blog post does not provide definitive proof on its own, I'm going to present some conclusions:\n",
    "\n",
    "#### R is absurdly slow \n",
    "R code is not just *slowish*... it's positively [glacial](https://www.youtube.com/watch?v=HStF1RJOyxI) compared to other languages. If you're hoping to work with anything other than teeny RAM-sized CSV files, you can pretty much forget about it. Some vendors even have products that spread R code across multiple servers to achieve hIgH sCalaBiliTy. I'm sorry but that just means you have peanut-butter-code running on all your machines instead of one.\n",
    "\n",
    "#### Python is slow, but passable\n",
    "Most data scientists only use Python to control the flow of external C libraries like numpy or TensorFlow anyway, so the fact that Python itself is slow doesn't have to be a problem, until the library is missing some functionality, and then it's a problem again. This is called \"the two language problem\" or just \"the Python problem\" for short.\n",
    "\n",
    "#### Python and R are bad at math\n",
    "Neither Python nor R are especially good at expressing mathematics, and a large part of it has to do with lacking support for dynamic dispatch. The clumsy way they handled complex types in the code above is one example. Their inability to conveniently work with high precision arithmetic is another example - which might not matter when drawing fractals, but when doing finance it's a big deal! As a result, following code in R will never return TRUE:\n",
    "```\n",
    "> 0.1 * 3 == 0.3\n",
    "[1] FALSE\n",
    "```\n",
    "\n",
    "#### Next Steps ?\n",
    "At LakeTide we use Julia for almost everything, from number crunching on multi-node DC/OS clusters to controlling robots with RaspberryPi cards. Fast code is important, but so is having fun! Fortunately you don't have to choose: http://www.julialang.org"
   ]
  }
 ],
 "metadata": {
  "kernelspec": {
   "display_name": "R",
   "language": "R",
   "name": "ir"
  },
  "language_info": {
   "codemirror_mode": "r",
   "file_extension": ".r",
   "mimetype": "text/x-r-source",
   "name": "R",
   "pygments_lexer": "r",
   "version": "3.2.3"
  }
 },
 "nbformat": 4,
 "nbformat_minor": 2
}
