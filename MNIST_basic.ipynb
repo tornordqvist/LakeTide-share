{
 "cells": [
  {
   "cell_type": "markdown",
   "metadata": {
    "deletable": true,
    "editable": true,
    "slideshow": {
     "slide_type": "slide"
    }
   },
   "source": [
    "# Agenda\n",
    "+ Some jupyter notebook basics\n",
    "+ Julia\n",
    "    - Written for scientific use\n",
    "    - Familiar syntax to Matlab, R, Python\n",
    "    - Speed of C\n",
    "+ What is MXNet\n",
    "    - Deep learning library\n",
    "    - Built for scalable distributed computations\n",
    "    - Supports many languages\n",
    "    - Runs on CPU's, GPU's, smartphones, servers, clusters...\n",
    "    - Uses both symbolic and imperative computations (think numpy)\n",
    "+ GPU vs CPU computations\n"
   ]
  },
  {
   "cell_type": "markdown",
   "metadata": {
    "deletable": true,
    "editable": true,
    "slideshow": {
     "slide_type": "slide"
    }
   },
   "source": [
    "## Why Julia"
   ]
  },
  {
   "cell_type": "markdown",
   "metadata": {
    "deletable": true,
    "editable": true,
    "slideshow": {
     "slide_type": "slide"
    }
   },
   "source": [
    "<tr>\n",
    "    <td> <img src=\"test.png\" alt=\"Drawing\" style=\"width: 600px;\"/> </td>\n",
    "    <td> <img src=\"benchmark.png\" alt=\"Drawing\" style=\"width: 600px;\"/> </td>\n",
    "    </tr>"
   ]
  },
  {
   "cell_type": "markdown",
   "metadata": {
    "deletable": true,
    "editable": true,
    "slideshow": {
     "slide_type": "fragment"
    }
   },
   "source": [
    "## MXNet"
   ]
  },
  {
   "cell_type": "markdown",
   "metadata": {
    "deletable": true,
    "editable": true,
    "slideshow": {
     "slide_type": "slide"
    }
   },
   "source": [
    "![title](mnist.png)"
   ]
  },
  {
   "cell_type": "code",
   "execution_count": null,
   "metadata": {
    "collapsed": false,
    "deletable": true,
    "editable": true,
    "slideshow": {
     "slide_type": "slide"
    }
   },
   "outputs": [],
   "source": [
    "using MXNet\n",
    "\n",
    "function get_mnist_providers(batch_size::Int; data_name=:data, label_name=:softmax_label, flat=true)\n",
    "  filenames = mx.get_mnist_ubyte()\n",
    "\n",
    "  train_provider = mx.MNISTProvider(image=filenames[:train_data],\n",
    "                                    label=filenames[:train_label],\n",
    "                                    data_name=data_name, label_name=label_name,\n",
    "                                    batch_size=batch_size, shuffle=true, flat=flat, silent=true)\n",
    "  eval_provider = mx.MNISTProvider(image=filenames[:test_data],\n",
    "                                   label=filenames[:test_label],\n",
    "                                   data_name=data_name, label_name=label_name,\n",
    "                                   batch_size=batch_size, shuffle=false, flat=flat, silent=true)\n",
    "\n",
    "  return (train_provider, eval_provider)\n",
    "    end\n",
    ";\n",
    "\n"
   ]
  },
  {
   "cell_type": "code",
   "execution_count": null,
   "metadata": {
    "collapsed": false,
    "deletable": true,
    "editable": true,
    "slideshow": {
     "slide_type": "slide"
    }
   },
   "outputs": [],
   "source": [
    "# data provider\n",
    "batch_size = 5000\n",
    "train_provider, eval_provider = get_mnist_providers(batch_size);"
   ]
  },
  {
   "cell_type": "markdown",
   "metadata": {
    "deletable": true,
    "editable": true,
    "slideshow": {
     "slide_type": "slide"
    }
   },
   "source": [
    "![title](nn.jpeg)"
   ]
  },
  {
   "cell_type": "code",
   "execution_count": null,
   "metadata": {
    "collapsed": false,
    "deletable": true,
    "editable": true,
    "scrolled": true,
    "slideshow": {
     "slide_type": "slide"
    }
   },
   "outputs": [],
   "source": [
    "# Define symbolic node for network architecture\n",
    "data = mx.Variable(:data)\n",
    "\n",
    "fc1  = mx.FullyConnected(data, name=:fc1, num_hidden=256)\n",
    "act1 = mx.Activation(fc1, name=:relu1, act_type=:relu)\n",
    "fc2  = mx.FullyConnected(act1, name=:fc2, num_hidden=128)\n",
    "act2 = mx.Activation(fc2, name=:relu2, act_type=:relu)\n",
    "fc6  = mx.FullyConnected(act2, name=:fc3, num_hidden=10)\n",
    "mlp  = mx.SoftmaxOutput(fc6, name=:softmax)\n",
    "\n",
    "# setup model. Here you can choose what hardware to use!\n",
    "model = mx.FeedForward(mlp, context=[mx.gpu()]) \n",
    "\n",
    "# optimizer\n",
    "optimizer = mx.SGD(lr=0.15, momentum=0.9, weight_decay=0.00001) \n"
   ]
  },
  {
   "cell_type": "markdown",
   "metadata": {
    "deletable": true,
    "editable": true,
    "slideshow": {
     "slide_type": "slide"
    }
   },
   "source": [
    "## Training on CPU vs GPU"
   ]
  },
  {
   "cell_type": "code",
   "execution_count": null,
   "metadata": {
    "collapsed": false,
    "deletable": true,
    "editable": true,
    "slideshow": {
     "slide_type": "slide"
    }
   },
   "outputs": [],
   "source": [
    "# Change verbosity between 0-3 to see more or less iteration data\n",
    "\n",
    "@time mx.fit(model, \n",
    "    optimizer, \n",
    "    train_provider,\n",
    "    eval_data=eval_provider, \n",
    "        eval_metric = mx.MultiMetric([mx.Accuracy(), mx.MSE()]), \n",
    "    n_epoch=5, \n",
    "    verbosity=0, \n",
    "    callbacks=[mx.speedometer(frequency=100)])"
   ]
  },
  {
   "cell_type": "code",
   "execution_count": null,
   "metadata": {
    "collapsed": false,
    "deletable": true,
    "editable": true,
    "slideshow": {
     "slide_type": "slide"
    }
   },
   "outputs": [],
   "source": [
    "# Predict on an evaluation set. Each column respond to the probabilities of each number\n",
    "\n",
    "mx.predict(model, eval_provider)"
   ]
  },
  {
   "cell_type": "markdown",
   "metadata": {
    "deletable": true,
    "editable": true,
    "slideshow": {
     "slide_type": "slide"
    }
   },
   "source": [
    "![title](gputech_f2.png)"
   ]
  },
  {
   "cell_type": "markdown",
   "metadata": {
    "deletable": true,
    "editable": true,
    "slideshow": {
     "slide_type": "slide"
    }
   },
   "source": [
    "## Check validation accuracy on trained model"
   ]
  },
  {
   "cell_type": "code",
   "execution_count": null,
   "metadata": {
    "collapsed": false,
    "deletable": true,
    "editable": true,
    "slideshow": {
     "slide_type": "slide"
    }
   },
   "outputs": [],
   "source": [
    "#--------------------------------------------------------------------------------\n",
    "# Demonstration of the predict API\n",
    "probs = mx.predict(model, eval_provider)\n",
    "\n",
    "# collect all labels from eval data\n",
    "labels = Array[]\n",
    "for batch in eval_provider\n",
    "  push!(labels, copy(mx.get(eval_provider, batch, :softmax_label)))\n",
    "end\n",
    "labels = cat(1, labels...)\n",
    "\n",
    "# Now we use compute the accuracy\n",
    "correct = 0\n",
    "for i = 1:length(labels)\n",
    "  # labels are 0...9\n",
    "  if indmax(probs[:,i]) == labels[i]+1\n",
    "    correct += 1\n",
    "  end\n",
    "end\n",
    "println(mx.format(\"Accuracy on eval set: {1:.2f}%\", 100correct/length(labels)))"
   ]
  },
  {
   "cell_type": "code",
   "execution_count": null,
   "metadata": {
    "collapsed": false
   },
   "outputs": [],
   "source": [
    "image1 = download(\"http://www.oceanographerschoice.com/log/wp-content/uploads/julia_benchmarks.png\", \"test.png\");\n",
    "image2 = download(\"https://www.ibm.com/developerworks/community/blogs/jfp/resource/BLOGS_UPLOADED_IMAGES/runtimes_205.png\", \"benchmark.png\");\n",
    "image3 = download(\"http://854320174.r.lightningbase-cdn.com/wp-content/uploads/2013/03/gputech_f2.png\", \"gpu.png\")\n",
    "image4 = download(\"http://cs231n.github.io/assets/nn1/neural_net.jpeg\", \"nn.jpeg\")\n",
    "image5 = download(\"https://www.researchgate.net/profile/Yuan_Tang3/publication/264203784/figure/fig3/AS:213858095505411@1427999151375/Samples-from-the-MNIST-database.png\", \"mnist.png\")\n",
    ";"
   ]
  }
 ],
 "metadata": {
  "kernelspec": {
   "display_name": "Julia 0.5.0",
   "language": "julia",
   "name": "julia-0.5"
  },
  "language_info": {
   "file_extension": ".jl",
   "mimetype": "application/julia",
   "name": "julia",
   "version": "0.5.0"
  }
 },
 "nbformat": 4,
 "nbformat_minor": 2
}
