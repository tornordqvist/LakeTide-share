{
 "cells": [
  {
   "cell_type": "markdown",
   "metadata": {
    "deletable": true,
    "editable": true
   },
   "source": [
    "![title](logo.png)"
   ]
  },
  {
   "cell_type": "markdown",
   "metadata": {
    "deletable": true,
    "editable": true
   },
   "source": [
    "# Today: Image recognition with MXNet\n",
    "- Image pre-processing\n",
    "- Convolutional Neural Networks\n",
    "- Architecture aspects\n",
    "- Hyperparameter considerations\n",
    "- Optimization algorithms\n"
   ]
  },
  {
   "cell_type": "markdown",
   "metadata": {
    "deletable": true,
    "editable": true
   },
   "source": [
    "![title](nn.jpeg)"
   ]
  },
  {
   "cell_type": "markdown",
   "metadata": {
    "deletable": true,
    "editable": true
   },
   "source": [
    "![title](cnn.jpeg)"
   ]
  },
  {
   "cell_type": "markdown",
   "metadata": {
    "deletable": true,
    "editable": true
   },
   "source": [
    "# Data pre-processing\n",
    "- Scaling\n",
    "- Normalization\n",
    "- Labeling"
   ]
  },
  {
   "cell_type": "markdown",
   "metadata": {
    "deletable": true,
    "editable": true
   },
   "source": [
    "### Inspect data"
   ]
  },
  {
   "cell_type": "code",
   "execution_count": null,
   "metadata": {
    "collapsed": false,
    "deletable": true,
    "editable": true
   },
   "outputs": [],
   "source": [
    "raw = load(string(\"datatide4/petter_00002.jpg\"))"
   ]
  },
  {
   "cell_type": "code",
   "execution_count": null,
   "metadata": {
    "collapsed": false,
    "deletable": true,
    "editable": true
   },
   "outputs": [],
   "source": [
    "using DataFrames\n",
    "using FileIO\n",
    "using Images"
   ]
  },
  {
   "cell_type": "code",
   "execution_count": null,
   "metadata": {
    "collapsed": false,
    "deletable": true,
    "editable": true,
    "scrolled": true
   },
   "outputs": [],
   "source": [
    "#A = float(rawview(channelview(temp))) # Use to go between float matrices and pictures\n",
    "imageFolder = \"./datatide4/\"\n",
    "filenames = map(x -> replace(x, \".jpg\", \"\"), readdir(imageFolder))\n",
    "labels = map(x -> split(x, \"_\")[1], filenames)\n",
    "classes = unique(labels)\n",
    "classDict = Dict(classes[i] => (i-1) for i=1:length(classes))\n",
    "labelSize = 1\n",
    "width = 75\n",
    "heigth = 75\n",
    "\n",
    "data = zeros(Float32, heigth, width, length(filenames))\n",
    "label = zeros(Int64, length(filenames))\n",
    "\n",
    "for i in 1:length(filenames)\n",
    "    image = load(string(\"datatide4/\", filenames[i], \".jpg\"))\n",
    "    image_resized = imresize(image, heigth, width)\n",
    "    temp = convert(Array{Float32}, image_resized)\n",
    "    data[ :, :, i] = temp \n",
    "    label[i] = classDict[labels[i]]\n",
    "end"
   ]
  },
  {
   "cell_type": "markdown",
   "metadata": {
    "deletable": true,
    "editable": true
   },
   "source": [
    "### Input data to CNN after pre-processing"
   ]
  },
  {
   "cell_type": "code",
   "execution_count": null,
   "metadata": {
    "collapsed": false,
    "deletable": true,
    "editable": true,
    "scrolled": false
   },
   "outputs": [],
   "source": [
    "colorview(Gray,data[:,:,40])"
   ]
  },
  {
   "cell_type": "markdown",
   "metadata": {
    "deletable": true,
    "editable": true
   },
   "source": [
    "### Create a MXNet data provider from the data"
   ]
  },
  {
   "cell_type": "code",
   "execution_count": null,
   "metadata": {
    "collapsed": true
   },
   "outputs": [],
   "source": [
    "using MXNet"
   ]
  },
  {
   "cell_type": "code",
   "execution_count": null,
   "metadata": {
    "collapsed": false,
    "deletable": true,
    "editable": true
   },
   "outputs": [],
   "source": [
    "mxData = mx.Variable(:data)\n",
    "mxLabel  = mx.Variable(:softmax_label)\n",
    "\n",
    "batch_size = 5\n",
    "\n",
    "train_provider = mx.ArrayDataProvider(:data => reshape(data, (heigth,width,1,length(filenames))),\n",
    "    :softmax_label => label ,\n",
    "    batch_size=batch_size, \n",
    "    shuffle=true)\n"
   ]
  },
  {
   "cell_type": "markdown",
   "metadata": {
    "deletable": true,
    "editable": true
   },
   "source": [
    "# Create CNN architecture\n",
    "- kernel\n",
    "- filters\n",
    "- pooling\n",
    "- stride"
   ]
  },
  {
   "cell_type": "markdown",
   "metadata": {
    "deletable": true,
    "editable": true
   },
   "source": [
    "![title](pooling.jpeg)"
   ]
  },
  {
   "cell_type": "markdown",
   "metadata": {
    "deletable": true,
    "editable": true
   },
   "source": [
    "![title](stride.png)"
   ]
  },
  {
   "cell_type": "code",
   "execution_count": null,
   "metadata": {
    "collapsed": false,
    "deletable": true,
    "editable": true,
    "scrolled": true
   },
   "outputs": [],
   "source": [
    "conv1 = @mx.chain mx.Convolution(mxData, kernel=(3,3), num_filter=200)  =>\n",
    "                  mx.BatchNorm() =>\n",
    "                  mx.Activation(act_type=:relu) =>\n",
    "                  mx.Pooling(pool_type=:max, kernel=(3,3), stride=(2,2))\n",
    "\n",
    "conv2 = @mx.chain mx.Convolution(conv1, kernel=(5,5), num_filter=200) =>\n",
    "                  mx.BatchNorm() =>\n",
    "                  mx.Activation(act_type=:relu) =>\n",
    "                  mx.Pooling(pool_type=:max, kernel=(2,2), stride=(1,1))\n",
    "\n",
    "conv3 = @mx.chain mx.Convolution(conv2, kernel=(3,3), num_filter=250) =>\n",
    "                  mx.BatchNorm() =>\n",
    "                  mx.Activation(act_type=:relu) =>\n",
    "                  mx.Pooling(pool_type=:max, kernel=(2,2), stride=(2,2))\n",
    "\n",
    "conv4 = @mx.chain mx.Convolution(conv3, kernel=(3,3), num_filter=250) =>\n",
    "                  mx.BatchNorm() =>\n",
    "                  mx.Activation(act_type=:relu) =>\n",
    "                  mx.Pooling(pool_type=:max, kernel=(2,2), stride=(2,2))\n",
    "\n",
    "fc1   = @mx.chain mx.Flatten(conv4) =>\n",
    "                  mx.FullyConnected(num_hidden=400) =>\n",
    "                  mx.BatchNorm() =>\n",
    "                  mx.Activation(act_type=:relu) =>\n",
    "                  mx.Dropout(p=0.3)\n",
    "\n",
    "fc2   = @mx.chain mx.FullyConnected(fc1, num_hidden=600) =>\n",
    "                  mx.BatchNorm() =>\n",
    "                  mx.Activation(act_type=:relu) =>\n",
    "                  mx.Dropout(p=0.3)\n",
    "\n",
    "fc3   = @mx.chain mx.FullyConnected(fc2, num_hidden=400) =>\n",
    "                  mx.BatchNorm() =>\n",
    "                  mx.Activation(act_type=:relu) =>\n",
    "                  mx.Dropout(p=0.3)\n",
    "\n",
    "fc4   = mx.FullyConnected(fc3, num_hidden=length(classes)) \n",
    "\n",
    "mlp  = mx.SoftmaxOutput(fc4, name=:softmax)"
   ]
  },
  {
   "cell_type": "code",
   "execution_count": null,
   "metadata": {
    "collapsed": false,
    "deletable": true,
    "editable": true,
    "scrolled": false
   },
   "outputs": [],
   "source": [
    "exec = mx.simple_bind(mlp, mx.cpu(), input=(75,75,1,36))\n",
    "dbg_str = mx.debug_str(exec)"
   ]
  },
  {
   "cell_type": "markdown",
   "metadata": {
    "deletable": true,
    "editable": true
   },
   "source": [
    "# Create model, define optimizer, run model"
   ]
  },
  {
   "cell_type": "markdown",
   "metadata": {
    "deletable": true,
    "editable": true
   },
   "source": [
    "### Learning rate"
   ]
  },
  {
   "cell_type": "markdown",
   "metadata": {
    "deletable": true,
    "editable": true
   },
   "source": [
    "![title](lr.png)"
   ]
  },
  {
   "cell_type": "markdown",
   "metadata": {
    "deletable": true,
    "editable": true
   },
   "source": [
    "### Momentum"
   ]
  },
  {
   "cell_type": "markdown",
   "metadata": {
    "deletable": true,
    "editable": true
   },
   "source": [
    "$v = \\alpha v - \\epsilon \\bigtriangledown _w \\Big(\\frac{1}{m} \\sum_{i=1}^{m}L(f(x^{i}; w), y^{i}) \\Big)$ <br/>\n",
    "$w \\leftarrow w + v$"
   ]
  },
  {
   "cell_type": "markdown",
   "metadata": {
    "deletable": true,
    "editable": true
   },
   "source": [
    "![title](gradient.png)"
   ]
  },
  {
   "cell_type": "code",
   "execution_count": null,
   "metadata": {
    "collapsed": false,
    "deletable": true,
    "editable": true,
    "scrolled": false
   },
   "outputs": [],
   "source": [
    "const learning_rate = 0.1\n",
    "const momentum = 0.90\n",
    "const l2 = 0 # set to zero if dropout is used\n",
    "\n",
    "# Define model and its hardware context\n",
    "model = mx.FeedForward(mlp, context=[mx.gpu()])\n",
    "\n",
    "# Define an optimizer to train the network\n",
    "optimizer = mx.SGD(lr=0.001, momentum=0.8, weight_decay=0.00001) #(lr=0.01, weight_decay=0.00001)\n",
    "\n",
    "\n",
    "# Some other built in optimizers\n",
    "\n",
    "# mx.ADAM(lr = learning_rate, weight_decay=l2)\n",
    "\n",
    "# mx.RMSProp(lr = learning_rate)\n",
    "\n",
    "\n"
   ]
  },
  {
   "cell_type": "markdown",
   "metadata": {
    "deletable": true,
    "editable": true
   },
   "source": [
    "## Time to train!"
   ]
  },
  {
   "cell_type": "code",
   "execution_count": null,
   "metadata": {
    "collapsed": false,
    "deletable": true,
    "editable": true,
    "scrolled": true
   },
   "outputs": [],
   "source": [
    "const epochs = 20\n",
    "\n",
    "mx.fit(model,\n",
    "    optimizer, \n",
    "    train_provider,\n",
    "    eval_metric=mx.Accuracy(),\n",
    "    n_epoch=epochs, \n",
    "    callbacks=[mx.speedometer(frequency=20),\n",
    "    mx.do_checkpoint(\"/home/laketide/work/microsoft/checkpoints/LakeNet\", frequency=epochs)]\n",
    "    )"
   ]
  },
  {
   "cell_type": "markdown",
   "metadata": {
    "deletable": true,
    "editable": true
   },
   "source": [
    "# Let's see some results!"
   ]
  },
  {
   "cell_type": "code",
   "execution_count": null,
   "metadata": {
    "collapsed": false,
    "deletable": true,
    "editable": true
   },
   "outputs": [],
   "source": [
    "e_data = zeros(Float32, heigth, width, 1) \n",
    "e_label = zeros(Int64, 1)\n",
    "\n",
    "image = load(string(\"/home/laketide/work/microsoft/eval/petter_00001.jpg\"))\n",
    "image_resized = imresize(image, heigth, width)\n",
    "temp = convert(Array{Float32}, image_resized)\n",
    "e_data[:,:,1] = temp \n",
    "\n",
    "eval_provider = mx.ArrayDataProvider(:data => reshape(e_data, (heigth,width,1,1)),\n",
    "    batch_size=1);"
   ]
  },
  {
   "cell_type": "code",
   "execution_count": null,
   "metadata": {
    "collapsed": false,
    "deletable": true,
    "editable": true,
    "scrolled": false
   },
   "outputs": [],
   "source": [
    "probs = mx.predict(model, eval_provider)\n",
    "alex = probs[1]\n",
    "carlos = probs[2]\n",
    "diant = probs[3]\n",
    "peter = probs[4]\n",
    "petter = probs[5]\n",
    "robert = probs[6]\n",
    "println(\"Probabilities:\\n\n",
    "    Alejandro: $alex\\n\n",
    "    Carlos: $carlos\\n\n",
    "    Diantha: $diant\\n\n",
    "    Peter: $peter\\n\n",
    "    Petter: $petter\\n\n",
    "    Robert: $robert\")\n",
    "image"
   ]
  },
  {
   "cell_type": "code",
   "execution_count": null,
   "metadata": {
    "collapsed": true,
    "deletable": true,
    "editable": true
   },
   "outputs": [],
   "source": [
    "#Download these images to see full presentation\n",
    "download(\"http://lh6.ggpht.com/-5RFMcz2bzWI/VA9NuUkB_vI/AAAAAAAAAdM/_DqqYO0nbX4/im2_thumb%25255B1%25255D.png?imgmax=800\", \"gradient.png\")\n",
    "download(\"http://cs231n.github.io/assets/nn1/neural_net.jpeg\", \"nn.jpeg\")\n",
    "download(\"http://cs231n.github.io/assets/cnn/maxpool.jpeg\", \"pooling.jpeg\")\n",
    "download(\"http://cs231n.github.io/assets/cnn/cnn.jpeg\", \"cnn.jpeg\")\n",
    "download(\"https://adeshpande3.github.io/assets/Stride1.png\", \"stride.png\")\n",
    "download(\"https://media.licdn.com/media/AAEAAQAAAAAAAAi4AAAAJDQ0ODNhMmEwLTVmN2MtNDhiZC05MTQyLWY5NTU5ZDllM2YzNQ.png\", \"logo.png\")\n",
    "download(\"https://raw.githubusercontent.com/qingkaikong/blog/master/2017_05_More_on_applying_ANN/figures/figure_4.png\", \"lr.png\")"
   ]
  }
 ],
 "metadata": {
  "kernelspec": {
   "display_name": "Julia 0.5.0",
   "language": "julia",
   "name": "julia-0.5"
  },
  "language_info": {
   "file_extension": ".jl",
   "mimetype": "application/julia",
   "name": "julia",
   "version": "0.5.0"
  }
 },
 "nbformat": 4,
 "nbformat_minor": 2
}
