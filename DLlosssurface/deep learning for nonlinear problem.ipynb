{
 "cells": [
  {
   "cell_type": "code",
   "execution_count": null,
   "metadata": {},
   "outputs": [],
   "source": [
    "using Flux\n",
    "using Flux.Tracker\n",
    "using Flux: argmax, crossentropy,throttle,onehotbatch\n",
    "using Base.Iterators: repeated, partition\n",
    "using Plotly\n",
    "using DataFrames\n",
    "using CategoricalArrays"
   ]
  },
  {
   "cell_type": "code",
   "execution_count": null,
   "metadata": {},
   "outputs": [],
   "source": [
    "xor(true,true),xor(false,true),xor(false,false),xor(true,false)"
   ]
  },
  {
   "cell_type": "code",
   "execution_count": null,
   "metadata": {},
   "outputs": [],
   "source": [
    "xor(1,1),xor(0,1),xor(0,0),xor(1,0)"
   ]
  },
  {
   "cell_type": "code",
   "execution_count": null,
   "metadata": {},
   "outputs": [],
   "source": [
    "a=rand([0,1],1_00);\n",
    "b=rand([0,1],1_00);\n",
    "X=2.* ([a b] .- 0.5)'\n",
    "Y = 2.*(xor.(a,b) .- 0.5);\n",
    "Y2 = onehotbatch([Y...],[-1.0,1.0]);"
   ]
  },
  {
   "cell_type": "code",
   "execution_count": null,
   "metadata": {},
   "outputs": [],
   "source": [
    "w1 = param(randn(4,2))\n",
    "b1 = param(randn(4))\n",
    "layer1(x) = w1 * x .+ b1\n",
    "\n",
    "w2 = param(rand(2,4))\n",
    "b2 = param(rand(2))\n",
    "layer2(x) = w2 * x .+b2\n",
    "\n",
    "model2(x) = softmax(layer2(relu.(layer1(x))))"
   ]
  },
  {
   "cell_type": "code",
   "execution_count": null,
   "metadata": {},
   "outputs": [],
   "source": [
    "meansquarederror(ŷ, y) = sum((ŷ .- y).^2)/size(y, 2)"
   ]
  },
  {
   "cell_type": "code",
   "execution_count": null,
   "metadata": {},
   "outputs": [],
   "source": [
    "#loss1(x,y) = meansquarederror(model(x),y)\n",
    "loss2(x,y) = crossentropy(model2(x),y)"
   ]
  },
  {
   "cell_type": "code",
   "execution_count": null,
   "metadata": {},
   "outputs": [],
   "source": [
    "function update!(ps,η=.1)\n",
    "    for w in ps\n",
    "        w.data .-=w.grad .* η\n",
    "        w.grad .=0\n",
    "    end\n",
    "end"
   ]
  },
  {
   "cell_type": "code",
   "execution_count": null,
   "metadata": {},
   "outputs": [],
   "source": [
    "accuracym2(x, y) = mean(argmax(model2(x)) .== argmax(y))\n",
    "for i = 1:100\n",
    "    back!(loss2(X,Y2))\n",
    "    update!((w1,b1,w2,b2))\n",
    "    @show accuracym2(X,Y2)\n",
    "end"
   ]
  },
  {
   "cell_type": "code",
   "execution_count": null,
   "metadata": {},
   "outputs": [],
   "source": [
    "a=rand([0,1],1_000);\n",
    "b=rand([0,1],1_000);\n",
    "testX=2.* ([a b] .- 0.5)'\n",
    "testY = 2.*(xor.(a,b) .- 0.5);\n",
    "testY2 = onehotbatch([testY...],[-1.0,1.0]);\n",
    "accuracym2(testX,testY2)"
   ]
  },
  {
   "cell_type": "code",
   "execution_count": null,
   "metadata": {},
   "outputs": [],
   "source": [
    "w1.data"
   ]
  },
  {
   "cell_type": "code",
   "execution_count": null,
   "metadata": {},
   "outputs": [],
   "source": [
    "sample_size = 10_000\n",
    "a = rand([-3:0.01:3]...,sample_size)\n",
    "b = rand([-3:0.01:3]...,sample_size)\n",
    "data= DataFrame(axisx = a, axisy = b)\n",
    "data[:class] = CategoricalArrays.CategoricalArray{String,1,UInt8}(sample_size)\n",
    "for r in eachrow(data)\n",
    "    pred = model2([r[:axisx];r[:axisy]])\n",
    "    if pred.data[1] == pred.data[2]\n",
    "        r[:class] = \"Non\"\n",
    "        continue\n",
    "    end\n",
    "    if argmax(pred) == 1\n",
    "        r[:class] = \"F\"\n",
    "    else\n",
    "        r[:class] = \"T\"\n",
    "    end\n",
    "end\n",
    "\n",
    "p_model_lowlevel = Plot(data, x=:axisx, y=:axisy, mode=\"markers\", marker_size=8, group=:class)\n",
    "\n",
    "plot(p_model_lowlevel)"
   ]
  },
  {
   "cell_type": "code",
   "execution_count": null,
   "metadata": {},
   "outputs": [],
   "source": [
    "a=rand([0,1],100);\n",
    "b=rand([0,1],100);\n",
    "X=2.* ([a b] .- 0.5)'\n",
    "Y = 2.*(xor.(a,b) .- 0.5);\n",
    "Y2 = onehotbatch([Y...],[-1.0,1.0]);\n",
    "dataset = repeated((X,Y2),5_000);\n",
    "\n",
    "m = Chain(\n",
    "  Dense(2, 4, relu),\n",
    "  Dense(4, 2),softmax)\n",
    "\n",
    "# Model loss function\n",
    "loss(x, y) = crossentropy(m(x), y)\n",
    "opt = ADAM(params(m))\n",
    "accuracy(x, y) = mean(argmax(m(x)) .== argmax(y))\n",
    "evalcb = () -> @show(accuracy(X, Y2))\n",
    "# later\n",
    "Flux.train!(loss, dataset, opt,cb = throttle(evalcb,1))"
   ]
  },
  {
   "cell_type": "code",
   "execution_count": null,
   "metadata": {},
   "outputs": [],
   "source": [
    "sample_size = 10_000\n",
    "a = rand([-3:0.01:3]...,sample_size)\n",
    "b = rand([-3:0.01:3]...,sample_size)\n",
    "data= DataFrame(axisx = a, axisy = b)\n",
    "data[:class] = CategoricalArrays.CategoricalArray{String,1,UInt8}(sample_size)\n",
    "for r in eachrow(data)\n",
    "    pred = m([r[:axisx];r[:axisy]])\n",
    "    if pred.data[1] == pred.data[2]\n",
    "        r[:class] = \"Non\"\n",
    "        continue\n",
    "    end\n",
    "    if argmax(pred) == 1\n",
    "        r[:class] = \"F\"\n",
    "    else\n",
    "        r[:class] = \"T\"\n",
    "    end\n",
    "end\n",
    "\n",
    "p_model_highlevel = Plot(data, x=:axisx, y=:axisy, mode=\"markers\", marker_size=8, group=:class)\n",
    "\n",
    "plot(p_model_highlevel)"
   ]
  },
  {
   "cell_type": "code",
   "execution_count": null,
   "metadata": {},
   "outputs": [],
   "source": [
    "layer1_θ = m.layers[1]\n",
    "layer2_θ = m.layers[2]"
   ]
  },
  {
   "cell_type": "code",
   "execution_count": null,
   "metadata": {},
   "outputs": [],
   "source": [
    "layer1_θ.b.data"
   ]
  },
  {
   "cell_type": "code",
   "execution_count": null,
   "metadata": {},
   "outputs": [],
   "source": [
    "layer1_θ.W.data = [-1 1;1 1;1 -1;-1 -1]"
   ]
  },
  {
   "cell_type": "code",
   "execution_count": null,
   "metadata": {},
   "outputs": [],
   "source": [
    "layer1_θ.b.data = [-1; -1; -1; -1]"
   ]
  },
  {
   "cell_type": "code",
   "execution_count": null,
   "metadata": {},
   "outputs": [],
   "source": [
    "layer2_θ.W.data = [0 1 0 1;1 0 1 0]"
   ]
  },
  {
   "cell_type": "code",
   "execution_count": null,
   "metadata": {},
   "outputs": [],
   "source": [
    "layer2_θ.b.data = [0;0]"
   ]
  },
  {
   "cell_type": "code",
   "execution_count": null,
   "metadata": {},
   "outputs": [],
   "source": [
    "sample_size = 10_000\n",
    "a = rand([-3:0.01:3]...,sample_size)\n",
    "b = rand([-3:0.01:3]...,sample_size)\n",
    "data= DataFrame(axisx = a, axisy = b)\n",
    "data[:class] = CategoricalArrays.CategoricalArray{String,1,UInt8}(sample_size)\n",
    "for r in eachrow(data)\n",
    "    pred = m([r[:axisx];r[:axisy]])\n",
    "    if pred.data[1] == pred.data[2]\n",
    "        r[:class] = \"Non\"\n",
    "        continue\n",
    "    end\n",
    "    if argmax(pred) == 1\n",
    "        r[:class] = \"F\"\n",
    "    else\n",
    "        r[:class] = \"T\"\n",
    "    end\n",
    "end\n",
    "\n",
    "p_manual = Plot(data, x=:axisx, y=:axisy, mode=\"markers\", marker_size=8, group=:class)\n",
    "\n",
    "Plotly.plot(p_manual)"
   ]
  },
  {
   "cell_type": "code",
   "execution_count": null,
   "metadata": {},
   "outputs": [],
   "source": [
    "a=rand([0,1],10);\n",
    "b=rand([0,1],10);\n",
    "X=2.* ([a b] .- 0.5)'\n",
    "Y = 2.*(xor.(a,b) .- 0.5);\n",
    "Y2 = onehotbatch([Y...],[-1.0,1.0]);\n",
    "dataset = repeated((X,Y2),50_000);\n",
    "m = Chain(\n",
    "  Dense(2, 10,relu),\n",
    "  Dense(10,8,relu),\n",
    "  Dense(8,4,relu),\n",
    "  Dense(4, 2),softmax)\n",
    "\n",
    "# Model loss function\n",
    "loss(x, y) = crossentropy(m(x), y)\n",
    "opt = ADAM(params(m))\n",
    "accuracy(x, y) = mean(argmax(m(x)) .== argmax(y))\n",
    "evalcb = () -> @show(accuracy(X, Y2))\n",
    "# later\n",
    "Flux.train!(loss, dataset, opt,cb = throttle(evalcb,5))"
   ]
  },
  {
   "cell_type": "code",
   "execution_count": null,
   "metadata": {},
   "outputs": [],
   "source": [
    "sample_size = 10_000\n",
    "a = rand([-3:0.01:3]...,sample_size)\n",
    "b = rand([-3:0.01:3]...,sample_size)\n",
    "data= DataFrame(axisx = a, axisy = b)\n",
    "data[:class] = CategoricalArrays.CategoricalArray{String,1,UInt8}(sample_size)\n",
    "for r in eachrow(data)\n",
    "    pred = m([r[:axisx];r[:axisy]])\n",
    "    if pred.data[1] == pred.data[2]\n",
    "        r[:class] = \"Non\"\n",
    "        continue\n",
    "    end\n",
    "    if argmax(pred) == 1\n",
    "        r[:class] = \"F\"\n",
    "    else\n",
    "        r[:class] = \"T\"\n",
    "    end\n",
    "end\n",
    "\n",
    "p_morelayers = Plot(data, x=:axisx, y=:axisy, mode=\"markers\", marker_size=3, group=:class)\n",
    "\n",
    "plot(p_morelayers)"
   ]
  }
 ],
 "metadata": {
  "kernelspec": {
   "display_name": "Julia 0.6.2",
   "language": "julia",
   "name": "julia-0.6"
  },
  "language_info": {
   "file_extension": ".jl",
   "mimetype": "application/julia",
   "name": "julia",
   "version": "0.6.2"
  }
 },
 "nbformat": 4,
 "nbformat_minor": 2
}
