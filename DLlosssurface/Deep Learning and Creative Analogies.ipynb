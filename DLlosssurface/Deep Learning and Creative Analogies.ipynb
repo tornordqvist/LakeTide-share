{
 "cells": [
  {
   "cell_type": "code",
   "execution_count": null,
   "metadata": {},
   "outputs": [],
   "source": [
    "using MXNet\n",
    "using ProgressMeter\n",
    "using Plotly\n",
    "using JLD2"
   ]
  },
  {
   "cell_type": "code",
   "execution_count": null,
   "metadata": {},
   "outputs": [],
   "source": [
    "mlp = @mx.chain mx.Variable(:data)             =>\n",
    "mx.FullyConnected(name=:fc1, num_hidden=128) =>\n",
    "mx.Activation(name=:relu1, act_type=:relu)   =>\n",
    "mx.FullyConnected(name=:fc2, num_hidden=64)  =>\n",
    "mx.Activation(name=:relu2, act_type=:relu)   =>\n",
    "mx.FullyConnected(name=:fc3, num_hidden=10)  =>\n",
    "mx.SoftmaxOutput(name=:softmax)\n",
    "\n",
    "# data provider\n",
    "batch_size = 100\n",
    "train_provider, eval_provider = get_mnist_providers(batch_size)\n",
    "\n",
    "# setup model\n",
    "model = mx.FeedForward(mlp, context=mx.gpu(0))\n",
    "\n",
    "# optimizer\n",
    "optimizer = mx.SGD(lr=0.01, momentum=0.9)\n",
    "\n",
    "# fit parameters\n",
    "mx.fit(model, optimizer, train_provider, eval_data=eval_provider, n_epoch=10)"
   ]
  },
  {
   "cell_type": "code",
   "execution_count": null,
   "metadata": {},
   "outputs": [],
   "source": [
    "function perturbweights(weightDict::Dict, perturb::Dict,t::Array{Float32,1})\n",
    "    tl = length(t)\n",
    "    perturbed = [Dict{Symbol,MXNet.mx.NDArray}() for i in 1:tl]\n",
    "    for (arg, array) in weightDict\n",
    "        for i in 1:tl\n",
    "            push!(perturbed[i], arg => (1-t[i]) .* weightDict[arg] .+ t[i]*copy(norm(weightDict[arg]))[1]/copy(norm(perturb[arg]))[1] .* perturb[arg])\n",
    "        end\n",
    "    end\n",
    "    return perturbed::Array{Dict{Symbol,MXNet.mx.NDArray},1}\n",
    "end\n",
    "\n",
    "function perturb(weightDict::Dict)\n",
    "    perturb = Dict()\n",
    "    for (arg, array) in weightDict\n",
    "        push!(perturb,arg => mx.NDArray(rand(Float32,size(weightDict[arg]))))\n",
    "    end\n",
    "    return perturb::Dict\n",
    "end\n",
    "\n",
    "function perturbweights2dbilinear2(θ0::Dict,θ1::Dict,θ2::Dict,θ3::Dict,t::Array{Float32,1}) # θ3 is the current minimal model is at\n",
    "    tl = length(t)\n",
    "    α,β = t,t\n",
    "    perturbed = [[Dict{Symbol,MXNet.mx.NDArray}() for i in 1:tl] for i in 1:tl]\n",
    "    @showprogress for (arg, array) in θ3\n",
    "        for i in 1:tl\n",
    "            for j in 1:tl\n",
    "                #ξ = α[i] .* θ0[arg] .+ (1-α[i]) .* θ1[arg]\n",
    "                ϕ = α[i]*copy(norm(θ3[arg]))[1]/copy(norm(θ2[arg]))[1] .* θ2[arg] .+ (1-α[i]) .* θ3[arg]\n",
    "                #θ = β[j] .* ξ .+ (1-β[j]) .* ϕ\n",
    "                θ = β[j]*copy(norm(θ3[arg]))[1]/copy(norm(θ0[arg]))[1] .* θ0[arg] .+\n",
    "                            (1-β[j])*copy(norm(θ3[arg]))[1]/copy(norm(ϕ))[1] .* ϕ\n",
    "                push!(perturbed[i][j], arg => θ )\n",
    "            end\n",
    "        end\n",
    "    end\n",
    "    return perturbed::Array{Array{Dict{Symbol,MXNet.mx.NDArray},1},1}\n",
    "end"
   ]
  },
  {
   "cell_type": "code",
   "execution_count": null,
   "metadata": {},
   "outputs": [],
   "source": [
    "minimal = model.arg_params"
   ]
  },
  {
   "cell_type": "code",
   "execution_count": null,
   "metadata": {},
   "outputs": [],
   "source": [
    "# 1d perturb\n",
    "perturbvector = perturb(minimal)\n",
    "t = [Float32(t) for t in -2:0.1:2]\n",
    "perturbed = perturbweights(minimal,perturbvector,t);\n",
    "\n",
    "#get loss\n",
    "acearray = []\n",
    "acuarray = []\n",
    "@showprogress for m in perturbed\n",
    "    model.arg_params = m\n",
    "    acu,ace = averagedcrossentropy(model, eval_provider);\n",
    "    push!(acearray,ace)\n",
    "    push!(acuarray,acu)\n",
    "end"
   ]
  },
  {
   "cell_type": "code",
   "execution_count": null,
   "metadata": {},
   "outputs": [],
   "source": [
    "Plotly.plot(t,acearray)"
   ]
  },
  {
   "cell_type": "code",
   "execution_count": null,
   "metadata": {},
   "outputs": [],
   "source": [
    "θ0,θ1,θ2 = perturb(minimal),perturb(minimal),perturb(minimal)\n",
    "θ3 = minimal\n",
    "t = [Float32(t) for t in -2:0.1:2]\n",
    "perturbed = perturbweights2dbilinear2(θ0,θ1,θ2,θ3,t);\n",
    "\n",
    "# 2d perturb\n",
    "tl = length(t)\n",
    "acearray2d = Array{Float32,2}(tl,tl)\n",
    "acuarray2d = Array{Float32,2}(tl,tl)\n",
    "@showprogress for i in 1:tl\n",
    "    for j in 1:tl\n",
    "        model.arg_params = perturbed[i][j]\n",
    "        acu,ace = averagedcrossentropy(model, eval_provider);\n",
    "        acearray2d[i,j] = ace\n",
    "        acuarray2d[i,j] = acu\n",
    "    end\n",
    "end"
   ]
  },
  {
   "cell_type": "code",
   "execution_count": null,
   "metadata": {},
   "outputs": [],
   "source": [
    "#@save \"acearray2d-mlp.jld2\" acearray2d\n",
    "@load \"acearray2d-mlp.jld2\" acearray2d"
   ]
  },
  {
   "cell_type": "code",
   "execution_count": null,
   "metadata": {},
   "outputs": [],
   "source": [
    "trace = Plotly.surface(z=log10.(acearray2d))\n",
    "Plotly.plot(trace,Layout(autosize=false))"
   ]
  },
  {
   "cell_type": "code",
   "execution_count": null,
   "metadata": {
    "scrolled": true
   },
   "outputs": [],
   "source": [
    "# input\n",
    "data = mx.Variable(:data)\n",
    "\n",
    "# first conv\n",
    "conv1 = @mx.chain mx.Convolution(data, kernel=(5,5), num_filter=20)  =>\n",
    "                  mx.Activation(act_type=:tanh) =>\n",
    "                  mx.Pooling(pool_type=:max, kernel=(2,2), stride=(2,2))\n",
    "\n",
    "# second conv\n",
    "conv2 = @mx.chain mx.Convolution(conv1, kernel=(5,5), num_filter=50) =>\n",
    "                  mx.Activation(act_type=:tanh) =>\n",
    "                  mx.Pooling(pool_type=:max, kernel=(2,2), stride=(2,2))\n",
    "\n",
    "# first fully-connected\n",
    "fc1   = @mx.chain mx.Flatten(conv2) =>\n",
    "                  mx.FullyConnected(num_hidden=500) =>\n",
    "                  mx.Activation(act_type=:tanh)\n",
    "\n",
    "# second fully-connected\n",
    "fc2   = mx.FullyConnected(fc1, num_hidden=10)\n",
    "\n",
    "# softmax loss\n",
    "lenet = mx.SoftmaxOutput(fc2, name=:softmax)\n",
    "\n",
    "\n",
    "#--------------------------------------------------------------------------------\n",
    "# load data\n",
    "batch_size = 100\n",
    "train_provider, eval_provider = get_mnist_providers(batch_size; flat=false)\n",
    "\n",
    "#--------------------------------------------------------------------------------\n",
    "# fit model\n",
    "model = mx.FeedForward(lenet, context=mx.gpu(0))\n",
    "\n",
    "# optimizer\n",
    "optimizer = mx.SGD(lr=0.01,momentum=0.9)\n",
    "\n",
    "# fit parameters\n",
    "mx.fit(model, optimizer, train_provider, n_epoch=10, eval_data=eval_provider)"
   ]
  },
  {
   "cell_type": "code",
   "execution_count": null,
   "metadata": {},
   "outputs": [],
   "source": [
    "minimal = model.arg_params"
   ]
  },
  {
   "cell_type": "code",
   "execution_count": null,
   "metadata": {},
   "outputs": [],
   "source": [
    "# 1d perturb\n",
    "perturbvector = perturb(minimal)\n",
    "t = [Float32(t) for t in -2:0.1:2]\n",
    "perturbed = perturbweights(minimal,perturbvector,t);\n",
    "\n",
    "#get loss\n",
    "acearray = []\n",
    "acuarray = []\n",
    "@showprogress for m in perturbed\n",
    "    model.arg_params = m\n",
    "    acu,ace = averagedcrossentropy(model, eval_provider);\n",
    "    push!(acearray,ace)\n",
    "    push!(acuarray,acu)\n",
    "end"
   ]
  },
  {
   "cell_type": "code",
   "execution_count": null,
   "metadata": {
    "scrolled": true
   },
   "outputs": [],
   "source": [
    "Plotly.plot(t,acearray)"
   ]
  },
  {
   "cell_type": "code",
   "execution_count": null,
   "metadata": {},
   "outputs": [],
   "source": [
    "θ0,θ1,θ2 = perturb(minimal),perturb(minimal),perturb(minimal)\n",
    "θ3 = minimal\n",
    "t = [Float32(t) for t in -2:0.1:2]\n",
    "perturbed = perturbweights2dbilinear2(θ0,θ1,θ2,θ3,t);\n",
    "\n",
    "# 2d perturb\n",
    "tl = length(t)\n",
    "acearray2d = Array{Float32,2}(tl,tl)\n",
    "acuarray2d = Array{Float32,2}(tl,tl)\n",
    "@showprogress for i in 1:tl\n",
    "    for j in 1:tl\n",
    "        model.arg_params = perturbed[i][j]\n",
    "        acu,ace = averagedcrossentropy(model, eval_provider);\n",
    "        acearray2d[i,j] = ace\n",
    "        acuarray2d[i,j] = acu\n",
    "    end\n",
    "end"
   ]
  },
  {
   "cell_type": "code",
   "execution_count": null,
   "metadata": {},
   "outputs": [],
   "source": [
    "#@save \"acearray2d-conv.jld2\" acearray2d\n",
    "@load \"acearray2d-conv.jld2\" acearray2d"
   ]
  },
  {
   "cell_type": "code",
   "execution_count": null,
   "metadata": {
    "scrolled": true
   },
   "outputs": [],
   "source": [
    "trace = Plotly.surface(z=log10.(acearray2d))\n",
    "Plotly.plot(trace,Layout(autosize=false))"
   ]
  },
  {
   "cell_type": "code",
   "execution_count": null,
   "metadata": {},
   "outputs": [],
   "source": [
    "function get_mnist_providers(batch_size::Int; data_name=:data, label_name=:softmax_label, flat=true)\n",
    "  filenames = mx.get_mnist_ubyte()\n",
    "  train_provider = mx.MNISTProvider(image=filenames[:train_data],\n",
    "                                    label=filenames[:train_label],\n",
    "                                    data_name=data_name, label_name=label_name,\n",
    "                                    batch_size=batch_size, shuffle=true, flat=flat, silent=true)\n",
    "  eval_provider = mx.MNISTProvider(image=filenames[:test_data],\n",
    "                                   label=filenames[:test_label],\n",
    "                                   data_name=data_name, label_name=label_name,\n",
    "                                   batch_size=batch_size, shuffle=false, flat=flat, silent=true)\n",
    "\n",
    "  return (train_provider, eval_provider)\n",
    "end\n",
    "function averagedcrossentropy(model, eval_provider)\n",
    "    probs = mx.predict(model, eval_provider)\n",
    "    labels = Array[]\n",
    "    for batch in eval_provider\n",
    "    push!(labels, copy(mx.get(eval_provider, batch, :softmax_label)))\n",
    "    end\n",
    "    labels = cat(1, labels...)\n",
    "\n",
    "    # Now we use compute the accuracy\n",
    "    correct = 0\n",
    "    # ace\n",
    "    acetotal = 0\n",
    "    for i = 1:length(labels)\n",
    "        # labels are 0...9\n",
    "        if indmax(probs[:,i]) == labels[i]+1\n",
    "          correct += 1\n",
    "        end\n",
    "        acetotal += log2(probs[Int(labels[i]+1),i])\n",
    "    end\n",
    "    ace = -acetotal/length(labels)\n",
    "    accuracy = 100correct/length(labels)\n",
    "    #println(mx.format(\"Accuracy on eval set: {1:.2f}%\", accuracy))\n",
    "    return accuracy,ace\n",
    "end\n",
    "\n",
    "\n",
    "function save_checkpoint(sym :: mx.SymbolicNode, arg_params :: Dict{Base.Symbol, mx.NDArray},\n",
    "                         aux_params :: Dict{Base.Symbol, mx.NDArray}, filename :: AbstractString,epochs::String)\n",
    "  mx.save(\"$filename-symbol.json\", sym)\n",
    "  save_dict = merge(Dict{Base.Symbol, mx.NDArray}(map((x) -> Symbol(\"arg:$(x[1])\") => x[2], arg_params)),\n",
    "                    Dict{Base.Symbol, mx.NDArray}(map((x) -> Symbol(\"aux:$(x[1])\") => x[2], aux_params)))\n",
    "  mx.save(\"$filename-$epochs\\.params\", save_dict)\n",
    "  info(\"Saved checkpoint to '$filename'\")\n",
    "end"
   ]
  }
 ],
 "metadata": {
  "kernelspec": {
   "display_name": "Julia 0.6.2",
   "language": "julia",
   "name": "julia-0.6"
  },
  "language_info": {
   "file_extension": ".jl",
   "mimetype": "application/julia",
   "name": "julia",
   "version": "0.6.2"
  }
 },
 "nbformat": 4,
 "nbformat_minor": 2
}
