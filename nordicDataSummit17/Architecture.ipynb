{
 "cells": [
  {
   "cell_type": "markdown",
   "metadata": {
    "slideshow": {
     "slide_type": "slide"
    }
   },
   "source": [
    "# An architecture for achieving greatness\n",
    "1. [Containers](#containers)\n",
    "    - [VM vs. Container](#VM-vs-Container)\n",
    "    - [Software packaging](#Software-packaging)\n",
    "    - [Building and deploying](#Building-and-deploying)\n",
    "    - [Sharing is caring - or not](#Sharing-is-caring---or-not)\n",
    "    - [How does it scale](#How-does-it-scale)\n",
    "2. [DC/OS](#dc/os)\n",
    "    - [One OS to rule them all](#One-OS-to-rule-them-all)\n",
    "        - [Mesos](#Mesos)\n",
    "            - [The minimal cluster resource manager](#The-minimal-cluster-resource-manager)\n",
    "            - [User space and system space - just like linux](#User-space-and-system-space---just-like-linux)\n",
    "        - [Marathon - the worlds oldest scheduler](#Marathon---the-worlds-oldest-scheduler)\n",
    "        - [And a bunch of other things](#And-a-bunch-of-other-things)\n",
    "    - [DC/OS vs. Kubernetes vs. Swarm](#DC/OS-vs.-Kubernetes-vs.-Swarm)\n",
    "    - [Creating apps](#creating-apps)\n",
    "        - [An example app - Memcached](#An-example-app---Memcached)\n",
    "3. [Azure](#Azure)\n",
    "    - [Deploying DC/OS](#deploying-dc/os)\n",
    "    - [Deployment and monitoring](#deployment-and-monitoring)"
   ]
  },
  {
   "cell_type": "markdown",
   "metadata": {},
   "source": [
    "---"
   ]
  },
  {
   "cell_type": "markdown",
   "metadata": {
    "slideshow": {
     "slide_type": "subslide"
    }
   },
   "source": [
    "## Containers"
   ]
  },
  {
   "cell_type": "markdown",
   "metadata": {
    "slideshow": {
     "slide_type": "subslide"
    }
   },
   "source": [
    "### VM vs. Container\n",
    "* What is aufs\n",
    "* What happens in the kernel\n",
    "* OS virtualization vs Hardware "
   ]
  },
  {
   "cell_type": "markdown",
   "metadata": {},
   "source": [
    "<tr>\n",
    "    <td> <img src=\"https://www.docker.com/sites/default/files/Container%402x.png\" alt=\"Drawing\" style=\"width: 400px;\"/> </td>\n",
    "    <td> <img src=\"https://www.docker.com/sites/default/files/VM%402x.png\" alt=\"Drawing\" style=\"width: 400px;\"/> </td>\n",
    "    </tr>"
   ]
  },
  {
   "cell_type": "markdown",
   "metadata": {},
   "source": [
    "<tr>\n",
    "    <td> <img src=\"http://images.nvidia.com/content/products/hpc/gpu-enabled-docker-containers.png\" alt=\"Drawing\" style=\"width: 500px;\"/> </td>\n",
    "</tr>\n",
    "\n"
   ]
  },
  {
   "cell_type": "markdown",
   "metadata": {},
   "source": [
    "---"
   ]
  },
  {
   "cell_type": "markdown",
   "metadata": {},
   "source": [
    "### Software packaging"
   ]
  },
  {
   "cell_type": "markdown",
   "metadata": {},
   "source": [
    "##### A minimal Julia script"
   ]
  },
  {
   "cell_type": "code",
   "execution_count": null,
   "metadata": {},
   "outputs": [],
   "source": [
    "# example.jl\n",
    "while true\n",
    "    println(\"I'm Alive\")\n",
    "    sleep(20)\n",
    "end"
   ]
  },
  {
   "cell_type": "markdown",
   "metadata": {},
   "source": [
    "---"
   ]
  },
  {
   "cell_type": "markdown",
   "metadata": {},
   "source": [
    "##### A basic Dockerfile for the script"
   ]
  },
  {
   "cell_type": "markdown",
   "metadata": {},
   "source": [
    "```bash\n",
    "FROM centos:7\n",
    "\n",
    "# INSTALL JULIA  \n",
    "ENV JULIA_TAG=\"0.6\"\n",
    "ENV JULIA_BIN=\"https://julialang-s3.julialang.org/bin/linux/x64/${JULIA_TAG}/julia-${JULIA_TAG}-latest-linux-x86_64.tar.gz\"\n",
    "RUN yum --enablerepo=extras install -y epel-release && \\\n",
    "    yum update -y && \\\n",
    "    curl ${JULIA_BIN} | tar zxf - -C /tmp && \\\n",
    "    cp -r /tmp/julia*/* /usr/local && \\\n",
    "    rm -rf /tmp/*\n",
    "\n",
    "# Update packages and install Requests\n",
    "RUN julia -e 'Pkg.update()' && \\\n",
    "    yum install -y http-parser unzip && \\\n",
    "    julia -e 'Pkg.add(\"Requests\")' && \\\n",
    "    julia -e 'using Requests'\n",
    "\n",
    "# Add example julia script to be executed on start\n",
    "ADD example.jl /\n",
    "ENTRYPOINT [\"julia\", \"/example.jl\"]\n",
    "```"
   ]
  },
  {
   "cell_type": "markdown",
   "metadata": {},
   "source": [
    "---"
   ]
  },
  {
   "cell_type": "markdown",
   "metadata": {},
   "source": [
    "#### Creating a GPU enabled container"
   ]
  },
  {
   "cell_type": "markdown",
   "metadata": {},
   "source": [
    "\n",
    "```bash\n",
    "FROM nvidia/cuda:8.0-cudnn6-devel-centos7\n",
    "LABEL maintainer \"LakeTide <info@laketide.com>\"\n",
    "WORKDIR /tmp\n",
    "ENV JULIA_TAG=\"v0.6.0\"\n",
    "ENV JULIA_GIT=\"https://github.com/JuliaLang/julia.git\"\n",
    "ENV MXNET_HOME=\"/usr/local\"\n",
    "\n",
    "RUN yum --enablerepo=extras install -y epel-release && \\\n",
    "    yum update -y && \\\n",
    "    yum install -y git m4 gcc-gfortran make which bzip2 patch openssl && \\\n",
    "    git clone ${JULIA_GIT} && \\\n",
    "    cd julia && \\\n",
    "    git checkout ${JULIA_TAG} && \\\n",
    "    sh contrib/download_cmake.sh && \\\n",
    "    make all -j$(nproc) MARCH=x86-64 JULIA_CPU_TARGET=x86-64 BUILD_LLVM_CLANG=1 && \\\n",
    "    cp -r usr/* /usr/local/ && \\\n",
    "    rm -f /usr/local/lib/libssh* /usr/local/lib/libcurl* && \\\n",
    "    ln -s /usr/local/tools/* /usr/local/bin/ && \\\n",
    "    rm -f /usr/local/bin/curl* && \\\n",
    "    yum autoremove -y && rm -rf /var/cache/yum* && rm -rf /tmp && mkdir /tmp\n",
    "    \n",
    " RUN yum install -y opencv lapack blas opencv-devel wget openblas-devel lapack-devel && \\\n",
    "    cd /tmp && \\\n",
    "    git clone --depth 1 --recursive --single-branch https://github.com/dmlc/mxnet && cd mxnet && \\\n",
    "    make -j$(nproc) ADD_CFLAGS=-I/usr/include/openblas USE_DIST_KVSTORE=1 USE_BLAS=openblas \\\n",
    "    USE_LAPACK=1 USE_OPENCV=1 USE_CUDA=1 USE_CUDNN=1 USE_CUDA_PATH=/usr/local/cuda && \\\n",
    "    cp lib/* /usr/local/lib && \\\n",
    "    echo \"/usr/local/lib\" | tee -a /etc/ld.so.conf && \\\n",
    "    echo \"/usr/local/cuda/lib64/stubs\" | tee -a /etc/ld.so.conf && ldconfig && \\\n",
    "    julia -e 'Pkg.update()' && \\\n",
    "    julia -e 'Pkg.add(\"MXNet\"); using MXNet' && \\\n",
    "    yum autoremove -y && rm -rf /var/cache/yum/* && rm -rf /tmp && mkdir /tmp\n",
    "\n",
    "RUN julia -e 'Pkg.add(\"DataFrames\"); using DataFrames' && \\\n",
    "    julia -e 'Pkg.add(\"OhMyREPL\"); using OhMyREPL' && \\\n",
    "    julia -e 'Pkg.add(\"CUDAnative\")' && \\\n",
    "    julia -e 'Pkg.add(\"CuArrays\")' && \\\n",
    "    yum autoremove -y && rm -rf /var/cache/yum/*\n",
    "\n",
    "RUN yum update -y && \\\n",
    "    yum install -y python-devel python-pip czmq && \\\n",
    "    pip install --upgrade pip && \\\n",
    "    pip install jupyter && \\\n",
    "    pip install jupyterthemes && \\\n",
    "    jt -f ubuntu -t grade3 && \\\n",
    "    julia -e 'Pkg.update()' && julia -e 'Pkg.add(\"IJulia\"); using IJulia' && \\\n",
    "    yum install -y fftw-libs && \\\n",
    "    julia -e 'Pkg.add(\"Gadfly\")' && julia -e 'using Gadfly' && \\\n",
    "    julia -e 'Pkg.add(\"Plots\")' && julia -e 'using Plots' && \\\n",
    "    yum autoremove -y && \\\n",
    "    rm -rf /var/cache/yum/*\n",
    "\n",
    "COPY extras/juliarc.jl /root/.juliarc.jl\n",
    "COPY extras/bashrc /root/.bashrc\n",
    "COPY extras/bash_profile /root/.bash_profile\n",
    "\n",
    "EXPOSE 8888\n",
    "\n",
    "ENTRYPOINT julia -e 'Pkg.build(\"CUDAdrv\"); Pkg.build(\"CuArrays\")' && export JULIA_NUM_THREADS=$((`nproc`/2)) && /usr/bin/jupyter notebook --allow-root --ip='*'\n",
    "```\n"
   ]
  },
  {
   "cell_type": "markdown",
   "metadata": {},
   "source": [
    "---"
   ]
  },
  {
   "cell_type": "markdown",
   "metadata": {},
   "source": [
    "### Building and deploying"
   ]
  },
  {
   "cell_type": "markdown",
   "metadata": {},
   "source": [
    "```bash\n",
    "# We can build a Dockerfile and push it to our repository\n",
    "docker build -t laketide/nordicdata .\n",
    "docker login\n",
    "docker push laketide/nordicdata\n",
    "```"
   ]
  },
  {
   "cell_type": "markdown",
   "metadata": {},
   "source": [
    "```bash\n",
    "# We can run a docker image locally as a single instance\n",
    "docker run -d -p 1337:8888 -v ~/containervolume:/tmp laketide/nordicdata\n",
    "\n",
    "```"
   ]
  },
  {
   "cell_type": "markdown",
   "metadata": {},
   "source": [
    "```bash\n",
    "# We can map nvidia drivers to our container to utilize gpu's on the host\n",
    "nvidia-docker run -d --restart always -p 6666:22 -p 1337:8888 -v ~/containervolume:/tmp laketide/julia-src\n",
    "NV_GPU='0,1' nvidia-docker run -d -p 1337:8888 -v ~/containervolume:/tmp laketide/nordicdata\n",
    "NV_GPU='GPU-836c0c09,GPU-b78a60a' nvidia-docker run ...\n",
    "\n",
    "```"
   ]
  },
  {
   "cell_type": "markdown",
   "metadata": {},
   "source": [
    "---"
   ]
  },
  {
   "cell_type": "markdown",
   "metadata": {},
   "source": [
    "### Sharing is caring - but who cares"
   ]
  },
  {
   "cell_type": "markdown",
   "metadata": {},
   "source": [
    "### How does it scale? - it doesn't"
   ]
  },
  {
   "cell_type": "markdown",
   "metadata": {},
   "source": [
    "* Docker Swarm\n",
    "* Kubernetes\n",
    "* DC/OS\n",
    "* RancherOS"
   ]
  },
  {
   "cell_type": "markdown",
   "metadata": {},
   "source": [
    "---"
   ]
  },
  {
   "cell_type": "markdown",
   "metadata": {},
   "source": [
    "\n",
    "<tr>\n",
    "    <td> <img src=\"https://mesosphere.com/wp-content/uploads/2016/04/logo-horizontal-styled.png\" alt=\"Drawing\" style=\"width: 400px;\"/> </td>\n",
    "</tr>\n"
   ]
  },
  {
   "cell_type": "markdown",
   "metadata": {},
   "source": [
    "### One OS to rule them all\n",
    "* User space and system space - just like linux\n",
    "* Mesos + systemd components\n"
   ]
  },
  {
   "cell_type": "markdown",
   "metadata": {},
   "source": [
    "<tr>\n",
    "    <td> <img src=\"https://dcos.io/docs/1.10/img/dcos-components-1.9.png\" alt=\"Drawing\" style=\"width: 500px;\"/> </td>\n",
    "</tr>"
   ]
  },
  {
   "cell_type": "markdown",
   "metadata": {},
   "source": [
    "---"
   ]
  },
  {
   "cell_type": "markdown",
   "metadata": {},
   "source": [
    "* Master/slave architecture"
   ]
  },
  {
   "cell_type": "markdown",
   "metadata": {},
   "source": [
    "<tr>\n",
    "    <td> <img src=\"https://dcos.io/docs/1.9/img/dcos-node-types.png\" alt=\"Drawing\" style=\"width: 500px;\"/> </td>\n",
    "</tr>"
   ]
  },
  {
   "cell_type": "markdown",
   "metadata": {},
   "source": [
    "---"
   ]
  },
  {
   "cell_type": "markdown",
   "metadata": {},
   "source": [
    "* DNS, virtual networks, layer 4 load balancer, VIPs for service discovery"
   ]
  },
  {
   "cell_type": "markdown",
   "metadata": {},
   "source": [
    "<tr>\n",
    "    <td> <img src=\"https://mesosphere.com/wp-content/uploads/2015/12/lb1.jpg\" alt=\"Drawing\" style=\"width: 400px;\"/> </td>\n",
    "</tr>"
   ]
  },
  {
   "cell_type": "markdown",
   "metadata": {},
   "source": [
    "---"
   ]
  },
  {
   "cell_type": "markdown",
   "metadata": {},
   "source": [
    "* DMZ for security"
   ]
  },
  {
   "cell_type": "markdown",
   "metadata": {},
   "source": [
    "<tr>\n",
    "    <td> <img src=\"https://dcos.io/docs/1.9/img/dcos-node-types.png\" alt=\"Drawing\" style=\"width: 500px;\"/> </td>\n",
    "</tr>"
   ]
  },
  {
   "cell_type": "markdown",
   "metadata": {},
   "source": [
    "* Built in container scheduler for jobs and stateful services"
   ]
  },
  {
   "cell_type": "markdown",
   "metadata": {},
   "source": [
    "---"
   ]
  },
  {
   "cell_type": "markdown",
   "metadata": {},
   "source": [
    "### Mesos"
   ]
  },
  {
   "cell_type": "markdown",
   "metadata": {},
   "source": [
    "* Minimal cluster resource manager\n",
    "* Fault tolerance via Zookeeper\n",
    "* Provides custom isolation for cpu, mem, disks, ports, gpu\n",
    "* Native support for Docker and the Nvidia plugin"
   ]
  },
  {
   "cell_type": "markdown",
   "metadata": {},
   "source": [
    "### Marathon\n",
    "* Like Internet Explorer - but nice.\n",
    "* Built in container scheduler (equivalent to Kubernetes, Swarm etc)\n",
    "* Blue/Green deployment\n",
    "* Persistent volumes\n",
    "* Custom health check definitions"
   ]
  },
  {
   "cell_type": "markdown",
   "metadata": {},
   "source": [
    "## ----> Let's deploy DC/OS on Azure!"
   ]
  },
  {
   "cell_type": "markdown",
   "metadata": {},
   "source": [
    "---"
   ]
  },
  {
   "cell_type": "markdown",
   "metadata": {},
   "source": [
    "### Creating apps"
   ]
  },
  {
   "cell_type": "markdown",
   "metadata": {},
   "source": [
    "##### Deploying the example Docker image on DC/OS with Marathon"
   ]
  },
  {
   "cell_type": "markdown",
   "metadata": {},
   "source": [
    "```json\n",
    "{\n",
    "  \"id\": \"nordicdatasummit\",\n",
    "  \"cpus\": 0.5,\n",
    "  \"mem\": 1000,\n",
    "  \"container\": {\n",
    "    \"type\": \"DOCKER\",\n",
    "    \"docker\": {\n",
    "      \"image\": \"laketide/nordicdata\",\n",
    "      \"network\": \"BRIDGE\",\n",
    "      \"forcePullImage\": true\n",
    "    }\n",
    "  }\n",
    "}\n",
    "```"
   ]
  },
  {
   "cell_type": "markdown",
   "metadata": {},
   "source": [
    "#### DC/OS supports GPU computing natively"
   ]
  },
  {
   "cell_type": "markdown",
   "metadata": {},
   "source": [
    "```json\n",
    "{\n",
    "    \"id\": \"docker-gpu-test\",\n",
    "    \"acceptedResourceRoles\":[\"slave_public\", \"*\"],\n",
    "    \"cmd\": \"while [ true ] ; do nvidia-smi; sleep 5; done\",\n",
    "    \"cpus\": 1,\n",
    "    \"mem\": 128,\n",
    "    \"disk\": 0,\n",
    "    \"gpus\": 1,\n",
    "    \"instances\": 1,\n",
    "    \"container\": {\n",
    "      \"type\": \"MESOS\",\n",
    "      \"docker\": {\n",
    "        \"image\": \"nvidia/cuda\"\n",
    "      }\n",
    "    }\n",
    "}\n",
    "```"
   ]
  },
  {
   "cell_type": "markdown",
   "metadata": {},
   "source": [
    "#### Deploying a Universe app to Marathon"
   ]
  },
  {
   "cell_type": "markdown",
   "metadata": {},
   "source": [
    "##### A Memcached json definition example"
   ]
  },
  {
   "cell_type": "markdown",
   "metadata": {},
   "source": [
    "```json\n",
    "{\n",
    "  \"id\": \"/memcached\",\n",
    "  \"cmd\": \"memcached -m 1024 -vv\",\n",
    "  \"instances\": 1,\n",
    "  \"cpus\": 1,\n",
    "  \"mem\": 2000,\n",
    "  \"disk\": 0,\n",
    "  \"gpus\": 0,\n",
    "  \"constraints\": [],\n",
    "  \"maxLaunchDelaySeconds\": 3600,\n",
    "  \"container\": {\n",
    "    \"type\": \"DOCKER\",\n",
    "    \"volumes\": [],\n",
    "    \"docker\": {\n",
    "      \"image\": \"memcached\",\n",
    "      \"network\": \"BRIDGE\",\n",
    "      \"portMappings\": [\n",
    "        {\n",
    "          \"containerPort\": 11211,\n",
    "          \"hostPort\": 11211,\n",
    "          \"servicePort\": 0,\n",
    "          \"protocol\": \"tcp\",\n",
    "          \"name\": \"connect\",\n",
    "          \"labels\": {\n",
    "            \"VIP_0\": \"/memcached:11211\"\n",
    "          }\n",
    "        }\n",
    "      ],\n",
    "      \"privileged\": true,\n",
    "      \"forcePullImage\": false\n",
    "    }\n",
    "  },\n",
    "  \"healthChecks\": [\n",
    "    {\n",
    "      \"gracePeriodSeconds\": 600,\n",
    "      \"intervalSeconds\": 10,\n",
    "      \"timeoutSeconds\": 10,\n",
    "      \"maxConsecutiveFailures\": 3,\n",
    "      \"portIndex\": 0,\n",
    "      \"protocol\": \"TCP\"\n",
    "    }\n",
    "  ],\n",
    "  \"upgradeStrategy\": {\n",
    "    \"minimumHealthCapacity\": 0,\n",
    "    \"maximumOverCapacity\": 0\n",
    "  },\n",
    "  \"unreachableStrategy\": {\n",
    "    \"inactiveAfterSeconds\": 300,\n",
    "    \"expungeAfterSeconds\": 600\n",
    "  },\n",
    "  \"killSelection\": \"YOUNGEST_FIRST\",\n",
    "  \"requirePorts\": true\n",
    "}\n",
    "```"
   ]
  },
  {
   "cell_type": "markdown",
   "metadata": {},
   "source": [
    "## Azure"
   ]
  },
  {
   "cell_type": "markdown",
   "metadata": {},
   "source": [
    "### Deploying DC/OS\n",
    "* With Container Service\n",
    "* With ARM and acs-engine"
   ]
  },
  {
   "cell_type": "markdown",
   "metadata": {},
   "source": [
    "### GUI\n",
    "* Deploy apps\n",
    "* Monitor cluster health\n",
    "* Check Mesos, Exhibitor, Marathon"
   ]
  },
  {
   "cell_type": "markdown",
   "metadata": {},
   "source": [
    "### CLI\n",
    "* Deploy/remove custom apps, jobs etc.\n",
    "* Micro-manage services, deployments"
   ]
  },
  {
   "cell_type": "markdown",
   "metadata": {},
   "source": [
    "## Building your own GPU workstation"
   ]
  },
  {
   "cell_type": "markdown",
   "metadata": {},
   "source": [
    "<tr>\n",
    "    <td> <img src=\"https://i2.wp.com/www.laketide.com/wp-content/uploads/2016/07/DIGITSv2.jpg?w=1080\" alt=\"Drawing\" style=\"width: 700px;\"/> </td>\n",
    "</tr>"
   ]
  },
  {
   "cell_type": "markdown",
   "metadata": {},
   "source": [
    "Hardware limitations:\n",
    "* Max power available\n",
    "* Cooling\n",
    "* Sound?\n",
    "* Money\n",
    "\n",
    "Performance:\n",
    "* GFLOPS/watt\n",
    "* GeForce SLI?\n",
    "* PCIe vs CPU\n",
    "* RAM vs CPU\n",
    "* SSD vs HD vs cost\n",
    "* Power supply = sum of all components + safety\n",
    "* Cool properly is key (spacing, positive airflow, "
   ]
  },
  {
   "cell_type": "markdown",
   "metadata": {},
   "source": [
    "<tr>\n",
    "    <td> <img src=\"http://cdn.wccftech.com/wp-content/uploads/2014/08/ASIS-X99-E-WS-Motherboard.jpg\" alt=\"Drawing\" style=\"width: 700px;\"/> </td>\n",
    "</tr>\n"
   ]
  }
 ],
 "metadata": {
  "kernelspec": {
   "display_name": "Julia 0.6.0",
   "language": "julia",
   "name": "julia-0.6"
  },
  "language_info": {
   "file_extension": ".jl",
   "mimetype": "application/julia",
   "name": "julia",
   "version": "0.6.0"
  }
 },
 "nbformat": 4,
 "nbformat_minor": 2
}
