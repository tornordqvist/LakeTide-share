{
 "cells": [
  {
   "cell_type": "code",
   "execution_count": 1,
   "metadata": {},
   "outputs": [],
   "source": [
    "using CUDAnative, CUDAdrv"
   ]
  },
  {
   "cell_type": "code",
   "execution_count": 2,
   "metadata": {},
   "outputs": [
    {
     "data": {
      "text/plain": [
       "kernel_dist (generic function with 1 method)"
      ]
     },
     "execution_count": 2,
     "metadata": {},
     "output_type": "execute_result"
    }
   ],
   "source": [
    "function kernel_dist(X::AbstractVector{Float32}, Y::AbstractVector{Float32}, out::AbstractVector{Float32})\n",
    "    #Thread index\n",
    "    #Need to do the n-1 dance, since CUDA expects 0 and Julia does 1-indexing\n",
    "    i = (blockIdx().x-1) * blockDim().x + threadIdx().x\n",
    "\n",
    "   out[i] = (X[i]-0.5)^2 + (Y[i]-0.5)^2\n",
    "\n",
    "   #Return nothing, since we’re writing directly to the out array allocated on GPU\n",
    "    return nothing\n",
    "end"
   ]
  },
  {
   "cell_type": "code",
   "execution_count": 4,
   "metadata": {},
   "outputs": [
    {
     "data": {
      "text/plain": [
       "977"
      ]
     },
     "execution_count": 4,
     "metadata": {},
     "output_type": "execute_result"
    }
   ],
   "source": [
    "samples = 1000000\n",
    "a = rand(Float32, (samples))\n",
    "b = rand(Float32, (samples));\n",
    "a_cu = CuArray(a)\n",
    "b_cu = CuArray(b)\n",
    "c_cu = similar(a_cu);\n",
    "n = length(a)\n",
    "\n",
    "ctx = CuCurrentContext()\n",
    "dev = device(ctx)\n",
    "max_threads = attribute(dev, CUDAdrv.MAX_THREADS_PER_BLOCK)\n",
    "threads = min(max_threads, n)\n",
    "blocks = ceil(Int, n/threads)"
   ]
  },
  {
   "cell_type": "code",
   "execution_count": 5,
   "metadata": {},
   "outputs": [
    {
     "data": {
      "text/plain": [
       "3.139884"
      ]
     },
     "execution_count": 5,
     "metadata": {},
     "output_type": "execute_result"
    }
   ],
   "source": [
    "@cuda (blocks, threads) kernel_dist(a_cu, b_cu, c_cu)\n",
    "c = Array(c_cu)\n",
    "\n",
    "destroy!(ctx)\n",
    "\n",
    "c = Array(c_cu)\n",
    "pi = 4*count(x->x<0.25,c)/length(c)"
   ]
  }
 ],
 "metadata": {
  "kernelspec": {
   "display_name": "Julia 0.6.0",
   "language": "julia",
   "name": "julia-0.6"
  },
  "language_info": {
   "file_extension": ".jl",
   "mimetype": "application/julia",
   "name": "julia",
   "version": "0.6.0"
  }
 },
 "nbformat": 4,
 "nbformat_minor": 2
}
