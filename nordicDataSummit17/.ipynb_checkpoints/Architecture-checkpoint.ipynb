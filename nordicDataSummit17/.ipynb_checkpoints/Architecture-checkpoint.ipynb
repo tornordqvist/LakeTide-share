{
 "cells": [
  {
   "cell_type": "markdown",
   "metadata": {},
   "source": [
    "# An architecture for achieving greatness\n",
    "1. [Containers](#containers)\n",
    "    - [VM vs. Container](#VM-vs-Container)\n",
    "    - [Software packaging](#Software-packaging)\n",
    "    - [Building and deploying](#Building-and-deploying)\n",
    "    - [Sharing is caring - or not](#Sharing-is-caring---or-not)\n",
    "    - [How does it scale](#How-does-it-scale)\n",
    "2. [DC/OS](#dc/os)\n",
    "    - [One OS to rule them all](#One-OS-to-rule-them-all)\n",
    "        - [Mesos](#Mesos)\n",
    "            - [The minimal cluster resource manager](#The-minimal-cluster-resource-manager)\n",
    "            - [User space and system space - just like linux](#User-space-and-system-space---just-like-linux)\n",
    "        - [Marathon - the worlds oldest scheduler](#Marathon---the-worlds-oldest-scheduler)\n",
    "        - [And a bunch of other things](#And-a-bunch-of-other-things)\n",
    "    - [DC/OS vs. Kubernetes vs. Swarm](#DC/OS-vs.-Kubernetes-vs.-Swarm)\n",
    "    - [Creating apps](#creating-apps)\n",
    "        - [An example app - Memcached](#An-example-app---Memcached)\n",
    "3. [Azure](#Azure)\n",
    "    - [Deploying DC/OS](#deploying-dc/os)\n",
    "    - [Deployment and monitoring](#deployment-and-monitoring)"
   ]
  },
  {
   "cell_type": "code",
   "execution_count": null,
   "metadata": {},
   "outputs": [],
   "source": [
    "# Download some images...\n",
    "download(\"https://dcos.io/docs/1.9/img/dcos-components-1.9.png\", \"dcos-arch.png\");\n",
    "download(\"https://www.dropbox.com/s/b0txdyqkklddj9u/ContainerOnHost.png?dl=0\", \"containeronhost.png\");\n",
    "download(\"https://www.dropbox.com/s/4qvnwi0h8c044ma/VMOnHost.png?dl=0\", \"vmonhost.png\");\n",
    "\n",
    "# .. and load some packages\n",
    "using FileIO"
   ]
  },
  {
   "cell_type": "code",
   "execution_count": null,
   "metadata": {},
   "outputs": [],
   "source": [
    "dcosarch = load(\"dcos-arch.png\")\n",
    "conthost = load(\"containeronhost.png\")\n",
    "vmhost = load(\"vmonhost.png\");"
   ]
  },
  {
   "cell_type": "markdown",
   "metadata": {},
   "source": [
    "## Containers"
   ]
  },
  {
   "cell_type": "markdown",
   "metadata": {},
   "source": [
    "### VM vs. Container"
   ]
  },
  {
   "cell_type": "markdown",
   "metadata": {},
   "source": [
    "<tr>\n",
    "    <td> <img src=\"containeronhost.png\" alt=\"Drawing\" style=\"width: 400px;\"/> </td>\n",
    "    <td> <img src=\"vmonhost.png\" alt=\"Drawing\" style=\"width: 400px;\"/> </td>\n",
    "    </tr>"
   ]
  },
  {
   "cell_type": "markdown",
   "metadata": {},
   "source": [
    "### Software packaging"
   ]
  },
  {
   "cell_type": "markdown",
   "metadata": {},
   "source": [
    "##### A basic Julia script checking some metrics against Marathon"
   ]
  },
  {
   "cell_type": "code",
   "execution_count": null,
   "metadata": {},
   "outputs": [],
   "source": [
    "using Requests\n",
    "qry = \"http://172.16.0.5:8080/v2/apps/nordicdatasummit/tasks\"\n",
    "while true\n",
    "        curl = get(qry)\n",
    "        println(Requests.json(curl))\n",
    "        sleep(20)\n",
    "end"
   ]
  },
  {
   "cell_type": "markdown",
   "metadata": {},
   "source": [
    "##### A basic Dockerfile for the script"
   ]
  },
  {
   "cell_type": "markdown",
   "metadata": {},
   "source": [
    "```bash\n",
    "FROM centos:7\n",
    "\n",
    "# INSTALL JULIA  \n",
    "ENV JULIA_TAG=\"0.6\"\n",
    "ENV JULIA_BIN=\"https://julialang-s3.julialang.org/bin/linux/x64/${JULIA_TAG}/julia-${JULIA_TAG}-latest-linux-x86_64.tar.gz\"\n",
    "RUN yum --enablerepo=extras install -y epel-release && \\\n",
    "    yum update -y && \\\n",
    "    curl ${JULIA_BIN} | tar zxf - -C /tmp && \\\n",
    "    cp -r /tmp/julia*/* /usr/local && \\\n",
    "    rm -rf /tmp/*\n",
    "\n",
    "# Update packages and install Requests\n",
    "RUN julia -e 'Pkg.update()' && \\\n",
    "    yum install -y http-parser unzip && \\\n",
    "    julia -e 'Pkg.add(\"Requests\")' && \\\n",
    "    julia -e 'using Requests'\n",
    "\n",
    "# Add example julia script to be executed on start\n",
    "ADD example.jl /\n",
    "ENTRYPOINT [\"julia\", \"/example.jl\"]\n",
    "```"
   ]
  },
  {
   "cell_type": "markdown",
   "metadata": {},
   "source": [
    "### Building and deploying"
   ]
  },
  {
   "cell_type": "markdown",
   "metadata": {},
   "source": [
    "### Sharing is caring - or not"
   ]
  },
  {
   "cell_type": "markdown",
   "metadata": {},
   "source": [
    "### How does it scale"
   ]
  },
  {
   "cell_type": "markdown",
   "metadata": {},
   "source": [
    "## DC/OS"
   ]
  },
  {
   "cell_type": "markdown",
   "metadata": {},
   "source": [
    "### One OS to rule them all"
   ]
  },
  {
   "cell_type": "markdown",
   "metadata": {},
   "source": [
    "<tr>\n",
    "    <td> <img src=\"dcos-arch.png\" alt=\"Drawing\" style=\"width: 500px;\"/> </td>\n",
    "</tr>"
   ]
  },
  {
   "cell_type": "markdown",
   "metadata": {},
   "source": [
    "### Mesos"
   ]
  },
  {
   "cell_type": "markdown",
   "metadata": {},
   "source": [
    "#### User space and system space - just like linux"
   ]
  },
  {
   "cell_type": "markdown",
   "metadata": {},
   "source": [
    "<tr>\n",
    "    <td> <img src=\"https://dcos.io/docs/1.9/img/dcos-node-types.png\" alt=\"Drawing\" style=\"width: 500px;\"/> </td>\n",
    "</tr>\n"
   ]
  },
  {
   "cell_type": "markdown",
   "metadata": {},
   "source": [
    "### Marathon"
   ]
  },
  {
   "cell_type": "markdown",
   "metadata": {},
   "source": [
    "### DC/OS vs. Kubernetes vs. Swarm"
   ]
  },
  {
   "cell_type": "markdown",
   "metadata": {},
   "source": [
    "### Creating apps"
   ]
  },
  {
   "cell_type": "markdown",
   "metadata": {},
   "source": [
    "##### Deploying the example Docker image on DC/OS with Marathon"
   ]
  },
  {
   "cell_type": "markdown",
   "metadata": {},
   "source": [
    "```json\n",
    "{\n",
    "  \"id\": \"nordicdatasummit\",\n",
    "  \"cpus\": 0.5,\n",
    "  \"mem\": 1000,\n",
    "  \"container\": {\n",
    "    \"type\": \"DOCKER\",\n",
    "    \"docker\": {\n",
    "      \"image\": \"laketide/nordicdata\",\n",
    "      \"network\": \"BRIDGE\",\n",
    "      \"forcePullImage\": true\n",
    "    }\n",
    "  }\n",
    "}\n",
    "```"
   ]
  },
  {
   "cell_type": "markdown",
   "metadata": {},
   "source": [
    "#### Deploying a Universe app to Marathon"
   ]
  },
  {
   "cell_type": "markdown",
   "metadata": {},
   "source": [
    "##### A Memcached json definition example"
   ]
  },
  {
   "cell_type": "markdown",
   "metadata": {},
   "source": [
    "```json\n",
    "{\n",
    "  \"id\": \"/memcached\",\n",
    "  \"cmd\": \"memcached -m 1024 -vv\",\n",
    "  \"instances\": 1,\n",
    "  \"cpus\": 1,\n",
    "  \"mem\": 2000,\n",
    "  \"disk\": 0,\n",
    "  \"gpus\": 0,\n",
    "  \"constraints\": [],\n",
    "  \"maxLaunchDelaySeconds\": 3600,\n",
    "  \"container\": {\n",
    "    \"type\": \"DOCKER\",\n",
    "    \"volumes\": [],\n",
    "    \"docker\": {\n",
    "      \"image\": \"memcached\",\n",
    "      \"network\": \"BRIDGE\",\n",
    "      \"portMappings\": [\n",
    "        {\n",
    "          \"containerPort\": 11211,\n",
    "          \"hostPort\": 11211,\n",
    "          \"servicePort\": 0,\n",
    "          \"protocol\": \"tcp\",\n",
    "          \"name\": \"connect\",\n",
    "          \"labels\": {\n",
    "            \"VIP_0\": \"/memcached:11211\"\n",
    "          }\n",
    "        }\n",
    "      ],\n",
    "      \"privileged\": true,\n",
    "      \"forcePullImage\": false\n",
    "    }\n",
    "  },\n",
    "  \"healthChecks\": [\n",
    "    {\n",
    "      \"gracePeriodSeconds\": 600,\n",
    "      \"intervalSeconds\": 10,\n",
    "      \"timeoutSeconds\": 10,\n",
    "      \"maxConsecutiveFailures\": 3,\n",
    "      \"portIndex\": 0,\n",
    "      \"protocol\": \"TCP\"\n",
    "    }\n",
    "  ],\n",
    "  \"upgradeStrategy\": {\n",
    "    \"minimumHealthCapacity\": 0,\n",
    "    \"maximumOverCapacity\": 0\n",
    "  },\n",
    "  \"unreachableStrategy\": {\n",
    "    \"inactiveAfterSeconds\": 300,\n",
    "    \"expungeAfterSeconds\": 600\n",
    "  },\n",
    "  \"killSelection\": \"YOUNGEST_FIRST\",\n",
    "  \"requirePorts\": true\n",
    "}\n",
    "```"
   ]
  },
  {
   "cell_type": "markdown",
   "metadata": {},
   "source": [
    "## Azure"
   ]
  },
  {
   "cell_type": "markdown",
   "metadata": {},
   "source": [
    "### Deploying DC/OS"
   ]
  },
  {
   "cell_type": "markdown",
   "metadata": {},
   "source": [
    "### Deployment and monitoring"
   ]
  }
 ],
 "metadata": {
  "kernelspec": {
   "display_name": "Julia 0.6.0",
   "language": "julia",
   "name": "julia-0.6"
  },
  "language_info": {
   "file_extension": ".jl",
   "mimetype": "application/julia",
   "name": "julia",
   "version": "0.6.0"
  }
 },
 "nbformat": 4,
 "nbformat_minor": 2
}
