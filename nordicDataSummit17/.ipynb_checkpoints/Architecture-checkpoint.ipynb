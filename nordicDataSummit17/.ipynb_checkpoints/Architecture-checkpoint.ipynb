{
 "cells": [
  {
   "cell_type": "markdown",
   "metadata": {},
   "source": [
    "# An architecture for achieving greatness"
   ]
  },
  {
   "cell_type": "markdown",
   "metadata": {},
   "source": [
    "---"
   ]
  },
  {
   "cell_type": "markdown",
   "metadata": {
    "slideshow": {
     "slide_type": "subslide"
    }
   },
   "source": [
    "## Containers"
   ]
  },
  {
   "cell_type": "markdown",
   "metadata": {
    "slideshow": {
     "slide_type": "subslide"
    }
   },
   "source": [
    "### VM vs. Container\n",
    "* No separate OS\n",
    "* Lightweigth\n",
    "* Easy to scale"
   ]
  },
  {
   "cell_type": "markdown",
   "metadata": {},
   "source": [
    "<tr>\n",
    "    <td> <img src=\"https://www.docker.com/sites/default/files/Container%402x.png\" alt=\"Drawing\" style=\"width: 400px;\"/> </td>\n",
    "    <td> <img src=\"https://www.docker.com/sites/default/files/VM%402x.png\" alt=\"Drawing\" style=\"width: 400px;\"/> </td>\n",
    "    </tr>"
   ]
  },
  {
   "cell_type": "markdown",
   "metadata": {},
   "source": [
    "<tr>\n",
    "    <td> <img src=\"http://images.nvidia.com/content/products/hpc/gpu-enabled-docker-containers.png\" alt=\"Drawing\" style=\"width: 500px;\"/> </td>\n",
    "</tr>\n",
    "\n"
   ]
  },
  {
   "cell_type": "markdown",
   "metadata": {},
   "source": [
    "---"
   ]
  },
  {
   "cell_type": "markdown",
   "metadata": {},
   "source": [
    "\n",
    "<tr>\n",
    "    <td> <img src=\"https://mesosphere.com/wp-content/uploads/2016/04/logo-horizontal-styled.png\" alt=\"Drawing\" style=\"width: 400px;\"/> </td>\n",
    "</tr>\n"
   ]
  },
  {
   "cell_type": "markdown",
   "metadata": {},
   "source": [
    "### One OS to rule them all\n",
    "* User space and system space - just like linux\n",
    "* Mesos + systemd components\n"
   ]
  },
  {
   "cell_type": "markdown",
   "metadata": {},
   "source": [
    "<tr>\n",
    "    <td> <img src=\"https://dcos.io/docs/1.10/img/dcos-components-1.9.png\" alt=\"Drawing\" style=\"width: 500px;\"/> </td>\n",
    "</tr>"
   ]
  },
  {
   "cell_type": "markdown",
   "metadata": {},
   "source": [
    "---"
   ]
  },
  {
   "cell_type": "markdown",
   "metadata": {},
   "source": [
    "* Master/slave architecture"
   ]
  },
  {
   "cell_type": "markdown",
   "metadata": {},
   "source": [
    "<tr>\n",
    "    <td> <img src=\"https://dcos.io/docs/1.9/img/dcos-node-types.png\" alt=\"Drawing\" style=\"width: 500px;\"/> </td>\n",
    "</tr>"
   ]
  },
  {
   "cell_type": "markdown",
   "metadata": {},
   "source": [
    "---"
   ]
  },
  {
   "cell_type": "markdown",
   "metadata": {},
   "source": [
    "* DNS, virtual networks, layer 4 load balancer, VIPs for service discovery"
   ]
  },
  {
   "cell_type": "markdown",
   "metadata": {},
   "source": [
    "<tr>\n",
    "    <td> <img src=\"https://mesosphere.com/wp-content/uploads/2015/12/lb1.jpg\" alt=\"Drawing\" style=\"width: 400px;\"/> </td>\n",
    "</tr>"
   ]
  },
  {
   "cell_type": "markdown",
   "metadata": {},
   "source": [
    "---"
   ]
  },
  {
   "cell_type": "markdown",
   "metadata": {},
   "source": [
    "### Mesos"
   ]
  },
  {
   "cell_type": "markdown",
   "metadata": {},
   "source": [
    "* Minimal cluster resource manager\n",
    "* Fault tolerance via Zookeeper\n",
    "* Provides custom isolation for cpu, mem, disks, ports, gpu\n",
    "* Native support for Docker and the Nvidia plugin"
   ]
  },
  {
   "cell_type": "markdown",
   "metadata": {},
   "source": [
    "### Marathon\n",
    "* Like Internet Explorer - but nice.\n",
    "* Built in container scheduler (equivalent to Kubernetes, Swarm etc)\n",
    "* Blue/Green deployment\n",
    "* Persistent volumes\n",
    "* Custom health check definitions"
   ]
  },
  {
   "cell_type": "markdown",
   "metadata": {},
   "source": [
    "## ----> Let's deploy DC/OS on Azure!"
   ]
  },
  {
   "cell_type": "markdown",
   "metadata": {},
   "source": [
    "---"
   ]
  },
  {
   "cell_type": "markdown",
   "metadata": {},
   "source": [
    "### Creating apps"
   ]
  },
  {
   "cell_type": "markdown",
   "metadata": {},
   "source": [
    "##### Deploying the example Docker image on DC/OS with Marathon"
   ]
  },
  {
   "cell_type": "markdown",
   "metadata": {},
   "source": [
    "#### DC/OS supports GPU computing natively"
   ]
  },
  {
   "cell_type": "markdown",
   "metadata": {},
   "source": [
    "```json\n",
    "{\n",
    "  \"id\": \"/memcached\",\n",
    "  \"cmd\": \"memcached -m 1024 -vv\",\n",
    "  \"instances\": 1,\n",
    "  \"cpus\": 1,\n",
    "  \"mem\": 2000,\n",
    "  \"disk\": 0,\n",
    "  \"gpus\": 0,\n",
    "  \"constraints\": [],\n",
    "  \"maxLaunchDelaySeconds\": 3600,\n",
    "  \"container\": {\n",
    "    \"type\": \"DOCKER\",\n",
    "    \"volumes\": [],\n",
    "    \"docker\": {\n",
    "      \"image\": \"memcached\",\n",
    "      \"network\": \"BRIDGE\",\n",
    "      \"portMappings\": [\n",
    "        {\n",
    "          \"containerPort\": 11211,\n",
    "          \"hostPort\": 11211,\n",
    "          \"servicePort\": 0,\n",
    "          \"protocol\": \"tcp\",\n",
    "          \"name\": \"connect\",\n",
    "          \"labels\": {\n",
    "            \"VIP_0\": \"/memcached:11211\"\n",
    "          }\n",
    "        }\n",
    "      ],\n",
    "      \"privileged\": true,\n",
    "      \"forcePullImage\": false\n",
    "    }\n",
    "  },\n",
    "  \"healthChecks\": [\n",
    "    {\n",
    "      \"gracePeriodSeconds\": 600,\n",
    "      \"intervalSeconds\": 10,\n",
    "      \"timeoutSeconds\": 10,\n",
    "      \"maxConsecutiveFailures\": 3,\n",
    "      \"portIndex\": 0,\n",
    "      \"protocol\": \"TCP\"\n",
    "    }\n",
    "  ],\n",
    "  \"upgradeStrategy\": {\n",
    "    \"minimumHealthCapacity\": 0,\n",
    "    \"maximumOverCapacity\": 0\n",
    "  },\n",
    "  \"unreachableStrategy\": {\n",
    "    \"inactiveAfterSeconds\": 300,\n",
    "    \"expungeAfterSeconds\": 600\n",
    "  },\n",
    "  \"killSelection\": \"YOUNGEST_FIRST\",\n",
    "  \"requirePorts\": true\n",
    "}\n",
    "```"
   ]
  },
  {
   "cell_type": "markdown",
   "metadata": {},
   "source": [
    "## Azure"
   ]
  },
  {
   "cell_type": "markdown",
   "metadata": {},
   "source": [
    "### Deploying DC/OS\n",
    "* With Container Service\n",
    "* With ARM and acs-engine"
   ]
  },
  {
   "cell_type": "markdown",
   "metadata": {},
   "source": [
    "### GUI\n",
    "* Deploy apps\n",
    "* Monitor cluster health\n",
    "* Check Mesos, Exhibitor, Marathon"
   ]
  },
  {
   "cell_type": "markdown",
   "metadata": {},
   "source": [
    "### CLI\n",
    "* Deploy/remove custom apps, jobs etc.\n",
    "* Micro-manage services, deployments"
   ]
  },
  {
   "cell_type": "markdown",
   "metadata": {},
   "source": [
    "## Building your own GPU workstation"
   ]
  },
  {
   "cell_type": "markdown",
   "metadata": {},
   "source": [
    "<tr>\n",
    "    <td> <img src=\"https://i2.wp.com/www.laketide.com/wp-content/uploads/2016/07/DIGITSv2.jpg?w=1080\" alt=\"Drawing\" style=\"width: 700px;\"/> </td>\n",
    "</tr>"
   ]
  },
  {
   "cell_type": "markdown",
   "metadata": {},
   "source": [
    "Hardware limitations:\n",
    "* Max power available\n",
    "* Cooling\n",
    "* Sound?\n",
    "* Money\n",
    "\n",
    "Performance:\n",
    "* GFLOPS/watt\n",
    "* GeForce SLI?\n",
    "* PCIe vs CPU\n",
    "* RAM vs CPU\n",
    "* SSD vs HD vs cost\n",
    "* Power supply = sum of all components + safety\n",
    "* Cool properly is key (spacing, positive airflow, "
   ]
  },
  {
   "cell_type": "markdown",
   "metadata": {},
   "source": [
    "<tr>\n",
    "    <td> <img src=\"http://cdn.wccftech.com/wp-content/uploads/2014/08/ASIS-X99-E-WS-Motherboard.jpg\" alt=\"Drawing\" style=\"width: 700px;\"/> </td>\n",
    "</tr>\n"
   ]
  }
 ],
 "metadata": {
  "kernelspec": {
   "display_name": "Julia 0.6.0",
   "language": "julia",
   "name": "julia-0.6"
  },
  "language_info": {
   "file_extension": ".jl",
   "mimetype": "application/julia",
   "name": "julia",
   "version": "0.6.0"
  }
 },
 "nbformat": 4,
 "nbformat_minor": 2
}
