{
 "cells": [
  {
   "cell_type": "markdown",
   "metadata": {},
   "source": [
    "# Parallel computing in Julia"
   ]
  },
  {
   "cell_type": "markdown",
   "metadata": {},
   "source": [
    "## On CPU: Multi-process on multiple machines"
   ]
  },
  {
   "cell_type": "markdown",
   "metadata": {},
   "source": [
    "##### Running on one core"
   ]
  },
  {
   "cell_type": "code",
   "execution_count": 7,
   "metadata": {},
   "outputs": [],
   "source": [
    "function calc_pi(samples)\n",
    "    counter = 0\n",
    "    for i in 1:samples\n",
    "        x, y = rand(2)\n",
    "        if (x^2 + y^2 <=1)\n",
    "            counter += 1\n",
    "        end\n",
    "    end\n",
    "    π = 4 * counter / samples\n",
    "    return π\n",
    "end;"
   ]
  },
  {
   "cell_type": "code",
   "execution_count": 9,
   "metadata": {},
   "outputs": [
    {
     "name": "stdout",
     "output_type": "stream",
     "text": [
      "  4.876147 seconds (100.00 M allocations: 8.941 GiB, 10.54% gc time)\n"
     ]
    },
    {
     "data": {
      "text/plain": [
       "3.14159792"
      ]
     },
     "execution_count": 9,
     "metadata": {},
     "output_type": "execute_result"
    }
   ],
   "source": [
    "samples = 1e8\n",
    "@time calc_pi(samples)"
   ]
  },
  {
   "cell_type": "code",
   "execution_count": 10,
   "metadata": {},
   "outputs": [
    {
     "data": {
      "text/plain": [
       "1"
      ]
     },
     "execution_count": 10,
     "metadata": {},
     "output_type": "execute_result"
    }
   ],
   "source": [
    "nprocs()"
   ]
  },
  {
   "cell_type": "markdown",
   "metadata": {},
   "source": [
    "#### Adding more processes is a one-liner"
   ]
  },
  {
   "cell_type": "code",
   "execution_count": 11,
   "metadata": {},
   "outputs": [],
   "source": [
    "addprocs(3);"
   ]
  },
  {
   "cell_type": "code",
   "execution_count": 12,
   "metadata": {},
   "outputs": [
    {
     "name": "stdout",
     "output_type": "stream",
     "text": [
      "4\n",
      "[6, 7, 8]\n",
      "\n"
     ]
    }
   ],
   "source": [
    "# Check number of processes\n",
    "println(\"\"\"\n",
    "$(nprocs())\n",
    "$(workers())\n",
    "\"\"\")"
   ]
  },
  {
   "cell_type": "code",
   "execution_count": 13,
   "metadata": {},
   "outputs": [
    {
     "data": {
      "text/plain": [
       "2×2 Array{Float64,2}:\n",
       " 0.472542  0.158425\n",
       " 0.163229  0.6759  "
      ]
     },
     "execution_count": 13,
     "metadata": {},
     "output_type": "execute_result"
    }
   ],
   "source": [
    "randomVal_local = rand(2, 2)"
   ]
  },
  {
   "cell_type": "code",
   "execution_count": 14,
   "metadata": {},
   "outputs": [
    {
     "data": {
      "text/plain": [
       "Future(6, 1, 11, Nullable{Any}())"
      ]
     },
     "execution_count": 14,
     "metadata": {},
     "output_type": "execute_result"
    }
   ],
   "source": [
    "randomVal_worker = remotecall(rand, 6, 2, 2) # <--- Remote call returns remote reference (Future)"
   ]
  },
  {
   "cell_type": "code",
   "execution_count": 15,
   "metadata": {
    "scrolled": true
   },
   "outputs": [
    {
     "data": {
      "text/plain": [
       "2×2 Array{Float64,2}:\n",
       " 0.615875  0.638073\n",
       " 0.233866  0.183529"
      ]
     },
     "execution_count": 15,
     "metadata": {},
     "output_type": "execute_result"
    }
   ],
   "source": [
    "blabla = fetch(randomVal_worker) # <--- Cached locally "
   ]
  },
  {
   "cell_type": "markdown",
   "metadata": {},
   "source": [
    "##### Nicer syntax with @spawn"
   ]
  },
  {
   "cell_type": "code",
   "execution_count": 16,
   "metadata": {},
   "outputs": [
    {
     "data": {
      "text/plain": [
       "Future(8, 1, 15, Nullable{Any}())"
      ]
     },
     "execution_count": 16,
     "metadata": {},
     "output_type": "execute_result"
    }
   ],
   "source": [
    "randomVal1 = @spawn rand(2,2)\n",
    "#fetch(randomVal)\n",
    "\n",
    "randomVal2 = @spawn rand(2,2)\n",
    "randomVal3 = @spawn rand(2,2)\n",
    "\n",
    "#"
   ]
  },
  {
   "cell_type": "code",
   "execution_count": 17,
   "metadata": {},
   "outputs": [
    {
     "data": {
      "text/plain": [
       "2×2 Array{Float64,2}:\n",
       " 1.7496   2.74749\n",
       " 1.28719  1.15761"
      ]
     },
     "execution_count": 17,
     "metadata": {},
     "output_type": "execute_result"
    }
   ],
   "source": [
    "sumVal = fetch(randomVal1) + fetch(randomVal2) + fetch(randomVal3)"
   ]
  },
  {
   "cell_type": "markdown",
   "metadata": {},
   "source": [
    "#### Run @spawn on all available processes with @parallel. Pretty great."
   ]
  },
  {
   "cell_type": "code",
   "execution_count": 18,
   "metadata": {},
   "outputs": [
    {
     "data": {
      "text/plain": [
       "parallel_calc_pi (generic function with 1 method)"
      ]
     },
     "execution_count": 18,
     "metadata": {},
     "output_type": "execute_result"
    }
   ],
   "source": [
    "function parallel_calc_pi(samples)\n",
    "    counter = @parallel (+) for i=1:samples\n",
    "        x, y = rand(2)\n",
    "        ifelse(x^2 + y^2 <= 1, 1, 0)\n",
    "    end\n",
    "    π = 4 * counter / samples\n",
    "end"
   ]
  },
  {
   "cell_type": "code",
   "execution_count": 20,
   "metadata": {},
   "outputs": [
    {
     "name": "stdout",
     "output_type": "stream",
     "text": [
      "  1.558217 seconds (546 allocations: 37.375 KiB)\n"
     ]
    },
    {
     "data": {
      "text/plain": [
       "3.14169452"
      ]
     },
     "execution_count": 20,
     "metadata": {},
     "output_type": "execute_result"
    }
   ],
   "source": [
    "samples=1e8\n",
    "@time parallel_calc_pi(samples)"
   ]
  },
  {
   "cell_type": "code",
   "execution_count": 22,
   "metadata": {},
   "outputs": [
    {
     "data": {
      "text/plain": [
       "Task (done) @0x00007f798ea0d7b0"
      ]
     },
     "execution_count": 22,
     "metadata": {},
     "output_type": "execute_result"
    }
   ],
   "source": [
    "# Clear workers on all hosts\n",
    "rmprocs(workers())"
   ]
  },
  {
   "cell_type": "code",
   "execution_count": null,
   "metadata": {},
   "outputs": [],
   "source": [
    "clear!(id,4)"
   ]
  },
  {
   "cell_type": "code",
   "execution_count": 23,
   "metadata": {},
   "outputs": [
    {
     "data": {
      "text/plain": [
       "1"
      ]
     },
     "execution_count": 23,
     "metadata": {},
     "output_type": "execute_result"
    }
   ],
   "source": [
    "nprocs()"
   ]
  },
  {
   "cell_type": "code",
   "execution_count": 24,
   "metadata": {
    "scrolled": false
   },
   "outputs": [
    {
     "name": "stderr",
     "output_type": "stream",
     "text": [
      "ErrorException(\"type LocalProcess has no field r_stream\")CapturedException(ErrorException(\"type LocalProcess has no field r_stream\"), Any[((::Base.Distributed.##call#19#20)(::VersionNumber, ::WorkerConfig, ::Type{"
     ]
    },
    {
     "data": {
      "text/plain": [
       "4-element Array{Int64,1}:\n",
       "  9\n",
       " 10\n",
       " 11\n",
       " 12"
      ]
     },
     "execution_count": 24,
     "metadata": {},
     "output_type": "execute_result"
    },
    {
     "name": "stderr",
     "output_type": "stream",
     "text": [
      "T}ErrorException( where T, ::Int64, ::TCPSocket, ::TCPSocket, ::Base.Distributed\".DefaultClusterManager) at cluster.jl:74, 1), ((::Core.#kw#Type)(::Array{Any,1}, ::Type{Base.Distributed.Worker}, ::Int64, ::TCPSocket, ::TCPSocket, ::Base.Distributed.DefaultClusterManager) at <missing>:0, 1), (handle_msg(::Base.Distributed.IdentifySocketMsg, ::Base.Distributed.MsgHeader, ::TCPSocket, ::TCPSocket, ::VersionNumber) at process_messages.jl:290, 1), (message_handler_loop(::TCPSocket, ::TCPSocket, ::Bool) at process_messages.jl:149, 1), (process_tcp_streams(::TCPSocket, ::TCPSocket, ::Bool) at process_messages.jl:118, 1), ((::Base.Distributed.##99#100{TCPSocket,TCPSocket,Bool})() at event.jl:73, 1)])\n",
      "Process(10) - Unknown remote, closing connection.\n",
      "AssertionError(\"wpid > 0\")CapturedException(AssertionError(\"wpid > 0\"), Any[(message_handler_loop(::TCPSocket, ::TCPSocket, ::Bool) at process_messages.jl:151, 1), (process_tcp_streams(::TCPSocket, ::TCPSocket, ::Bool) at process_messages.jl:118, 1), ((::Base.Distributed.##99#100{TCPSocket,TCPSocket,Bool})() at event.jl:73, 1)])\n",
      "Process(10) - Unknown remote, closing connection.\n",
      "type LocalProcess has no field r_stream\")CapturedException(ErrorException(\"type LocalProcess has no field r_stream\"), Any[((::Base.Distributed.##call#19#20)(::VersionNumber, ::WorkerConfig, ::Type{T} where T, ::Int64, ::TCPSocket, ::TCPSocket, ::Base.Distributed.DefaultClusterManager) at cluster.jl:74, 1), ((::Core.#kw#Type)(::Array{Any,1}, ::Type{Base.Distributed.Worker}, ::Int64, ::TCPSocket, ::TCPSocket, ::Base.Distributed.DefaultClusterManager) at <missing>:0, 1), (handle_msg(::Base.Distributed.IdentifySocketMsg, ::Base.Distributed.MsgHeader, ::TCPSocket, ::TCPSocket, ::VersionNumber) at process_messages.jl:290, 1), (message_handler_loop(::TCPSocket, ::TCPSocket, ::Bool) at process_messages.jl:149, 1), (process_tcp_streams(::TCPSocket, ::TCPSocket, ::Bool) at process_messages.jl:118, 1), ((::Base.Distributed.##99#100{TCPSocket,TCPSocket,Bool})() at event.jl:73, 1)])\n",
      "Process(12) - Unknown remote, closing connection.\n"
     ]
    }
   ],
   "source": [
    "# Add some more on another host\n",
    "addprocs([(\"root@10.4.1.6:6666\",2), (\"root@10.4.1.4:6666\",2)], tunnel=true)"
   ]
  },
  {
   "cell_type": "markdown",
   "metadata": {},
   "source": [
    "#### --> Multiple hosts are not necessarily a benefit\n",
    "* Access to memory\n",
    "* Communication\n",
    "* Sharing of data"
   ]
  },
  {
   "cell_type": "code",
   "execution_count": null,
   "metadata": {},
   "outputs": [],
   "source": [
    "anotherStupidMatrix = rand(100,100)\n",
    "calcMyStupidMatrix = @spawn inv(anotherStupidMatrix)\n",
    "\n",
    "lastPointlessMatrixIPromise = @spawn inv(rand(100,100))\n",
    "# fetch() and so on and so forth"
   ]
  },
  {
   "cell_type": "markdown",
   "metadata": {},
   "source": [
    "#### What about threads and co-routines?"
   ]
  },
  {
   "cell_type": "markdown",
   "metadata": {},
   "source": [
    "## On a single GPU"
   ]
  },
  {
   "cell_type": "code",
   "execution_count": null,
   "metadata": {},
   "outputs": [],
   "source": [
    "using CUDAnative, CUDAdrv"
   ]
  },
  {
   "cell_type": "code",
   "execution_count": null,
   "metadata": {},
   "outputs": [],
   "source": [
    "function kernel_dist(X::AbstractVector{Float32}, Y::AbstractVector{Float32}, out::AbstractVector{Float32})\n",
    "    i = (blockIdx().x-1) * blockDim().x + threadIdx().x\n",
    "    out[i] = (X[i]-0.5)^2 + (Y[i]-0.5)^2\n",
    "    return nothing\n",
    "end"
   ]
  },
  {
   "cell_type": "code",
   "execution_count": null,
   "metadata": {},
   "outputs": [],
   "source": [
    "samples = Int64(5e8)\n",
    "a = rand(Float32, (samples))\n",
    "b = rand(Float32, (samples));\n",
    "a_cu = CuArray(a)\n",
    "b_cu = CuArray(b)\n",
    "c_cu = similar(a_cu);\n",
    "n = length(a)\n",
    "\n",
    "ctx = CuCurrentContext()\n",
    "dev = device(ctx)\n",
    "max_threads = attribute(dev, CUDAdrv.MAX_THREADS_PER_BLOCK)\n",
    "threads = min(max_threads, n)\n",
    "blocks = ceil(Int, n/threads)"
   ]
  },
  {
   "cell_type": "code",
   "execution_count": null,
   "metadata": {},
   "outputs": [],
   "source": [
    "@time @cuda (blocks, threads) kernel_dist(a_cu, b_cu, c_cu)\n",
    "@time c = Array(c_cu)\n",
    "@time destroy!(ctx)\n",
    "@time pi_single = 4*count(x->x<0.25,c)/length(c)"
   ]
  },
  {
   "cell_type": "markdown",
   "metadata": {},
   "source": [
    "## On GPU's located on multiple machines"
   ]
  },
  {
   "cell_type": "code",
   "execution_count": 26,
   "metadata": {},
   "outputs": [
    {
     "data": {
      "text/plain": [
       "Task (done) @0x00007f798fba6a10"
      ]
     },
     "execution_count": 26,
     "metadata": {},
     "output_type": "execute_result"
    }
   ],
   "source": [
    "rmprocs(workers())"
   ]
  },
  {
   "cell_type": "code",
   "execution_count": 27,
   "metadata": {
    "scrolled": true
   },
   "outputs": [
    {
     "name": "stderr",
     "output_type": "stream",
     "text": [
      "ErrorException(\"type LocalProcess has no field r_stream\")CapturedException(ErrorException(\"type LocalProcess has no field r_stream\"), Any[((::Base.Distributed.##call#19#20)(::VersionNumber, ::WorkerConfig, ::Type{T} where T, ::Int64, ::TCPSocket, ::TCPSocket, ::Base.Distributed.DefaultClusterManager) at cluster.jl:74, 1), ((::Core.#kw#Type)(::Array{Any,1}, ::Type{Base.Distributed.Worker}, ::Int64, ::TCPSocket, ::TCPSocket, ::Base.Distributed.DefaultClusterManager) at <missing>:0, 1), (handle_msg(::Base.Distributed.IdentifySocketMsg, ::Base.Distributed.MsgHeader, ::TCPSocket, ::TCPSocket, ::VersionNumber) at process_messages.jl:290, 1), (message_handler_loop(::TCPSocket, ::TCPSocket, ::Bool) at process_messages.jl:149, 1), (process_tcp_streams(::TCPSocket, ::TCPSocket, ::Bool) at process_messages.jl:118, 1), ((::Base.Distributed.##99#100{TCPSocket,TCPSocket,Bool})() at event.jl:73, 1)])\n",
      "Process(14) - Unknown remote, closing connection.\n"
     ]
    }
   ],
   "source": [
    "addprocs([(\"root@10.4.1.6:6666\",1), (\"root@10.4.1.4:6666\",1)], tunnel=true);"
   ]
  },
  {
   "cell_type": "code",
   "execution_count": null,
   "metadata": {},
   "outputs": [],
   "source": [
    "nprocs()"
   ]
  },
  {
   "cell_type": "code",
   "execution_count": 28,
   "metadata": {},
   "outputs": [],
   "source": [
    "@everywhere using CUDAnative, CUDAdrv"
   ]
  },
  {
   "cell_type": "code",
   "execution_count": 29,
   "metadata": {},
   "outputs": [],
   "source": [
    "@everywhere function kernel_dist(X::AbstractVector{Float32}, Y::AbstractVector{Float32}, gpu_cu::AbstractVector{Float32})\n",
    "    i = (blockIdx().x-1) * blockDim().x + threadIdx().x\n",
    "    gpu_cu[i] = (X[i]-0.5)^2 + (Y[i]-0.5)^2\n",
    "    return nothing\n",
    "end"
   ]
  },
  {
   "cell_type": "code",
   "execution_count": 30,
   "metadata": {},
   "outputs": [],
   "source": [
    "@everywhere function distmontegpu(samples)\n",
    "    a = rand(Float32, (samples))\n",
    "    b = rand(Float32, (samples));\n",
    "    a_cu = CuArray(a)\n",
    "    b_cu = CuArray(b)\n",
    "    c_cu = similar(a_cu);\n",
    "    n = length(a)\n",
    "    ctx = CuCurrentContext()\n",
    "    dev = device(ctx)\n",
    "    max_threads = attribute(dev, CUDAdrv.MAX_THREADS_PER_BLOCK)\n",
    "    threads = min(max_threads, n)\n",
    "    blocks = ceil(Int, n/threads)\n",
    "    \n",
    "    @cuda (blocks, threads) kernel_dist(a_cu, b_cu, c_cu)\n",
    "    c = Array(c_cu)\n",
    "    destroy!(ctx)\n",
    "    return c\n",
    "end"
   ]
  },
  {
   "cell_type": "code",
   "execution_count": 31,
   "metadata": {},
   "outputs": [
    {
     "data": {
      "text/plain": [
       "2-element Array{Int64,1}:\n",
       " 13\n",
       " 14"
      ]
     },
     "execution_count": 31,
     "metadata": {},
     "output_type": "execute_result"
    }
   ],
   "source": [
    "workers()"
   ]
  },
  {
   "cell_type": "code",
   "execution_count": 32,
   "metadata": {},
   "outputs": [],
   "source": [
    "samples = Int64(5e8)\n",
    "n1 = @spawn distmontegpu(samples);\n",
    "n2 = @spawn distmontegpu(samples);"
   ]
  },
  {
   "cell_type": "code",
   "execution_count": 33,
   "metadata": {},
   "outputs": [
    {
     "data": {
      "text/plain": [
       "3.141625652"
      ]
     },
     "execution_count": 33,
     "metadata": {},
     "output_type": "execute_result"
    }
   ],
   "source": [
    "pi_double = 4*(count(x->x<0.25,fetch(n1))+count(x->x<0.25,fetch(n2)))/(length(workers())*samples)"
   ]
  },
  {
   "cell_type": "code",
   "execution_count": null,
   "metadata": {},
   "outputs": [],
   "source": [
    "pi_double"
   ]
  },
  {
   "cell_type": "markdown",
   "metadata": {},
   "source": [
    "---"
   ]
  },
  {
   "cell_type": "code",
   "execution_count": null,
   "metadata": {},
   "outputs": [],
   "source": [
    "samples = Int64(1e8)\n",
    "r3 = remotecall(distmontegpu, 1, samples)\n",
    "r1 = remotecall(distmontegpu, 2, samples)\n",
    "r2 = remotecall(distmontegpu, 3, samples)"
   ]
  },
  {
   "cell_type": "code",
   "execution_count": null,
   "metadata": {},
   "outputs": [],
   "source": [
    "pi_double = 4*(count(x->x<0.25,remotecall_fetch(getindex, 2, r1))+\n",
    "    count(x->x<0.25,remotecall_fetch(getindex, 3, r2))+\n",
    "    count(x->x<0.25,remotecall_fetch(getindex, 1, r3)))/(3*samples)"
   ]
  },
  {
   "cell_type": "markdown",
   "metadata": {},
   "source": [
    "* r1,r2,r3 continues to reside on each worker even after fetch()"
   ]
  },
  {
   "cell_type": "code",
   "execution_count": null,
   "metadata": {},
   "outputs": [],
   "source": [
    "samples = Int64(1e8)\n",
    "pi_double = 4*(count(x->x<0.25,remotecall_fetch(distmontegpu, 2, samples))+\n",
    "    count(x->x<0.25,remotecall_fetch(distmontegpu, 3, samples)))/(2*samples)"
   ]
  },
  {
   "cell_type": "code",
   "execution_count": null,
   "metadata": {},
   "outputs": [],
   "source": [
    "println(gpu1[1])\n",
    "println(length(gpu1))"
   ]
  },
  {
   "cell_type": "code",
   "execution_count": null,
   "metadata": {},
   "outputs": [],
   "source": [
    "println(gpu2[1])\n",
    "println(length(gpu2))"
   ]
  },
  {
   "cell_type": "code",
   "execution_count": null,
   "metadata": {},
   "outputs": [],
   "source": [
    "@printf \"%.15f\" abs(π - pi_single) "
   ]
  },
  {
   "cell_type": "code",
   "execution_count": null,
   "metadata": {},
   "outputs": [],
   "source": [
    "@printf \"%.15f\" abs(π - pi_double)"
   ]
  },
  {
   "cell_type": "markdown",
   "metadata": {},
   "source": [
    "# Parallel macro"
   ]
  },
  {
   "cell_type": "markdown",
   "metadata": {},
   "source": [
    "#### @parallel - The go-to tool for handling small tasks"
   ]
  },
  {
   "cell_type": "code",
   "execution_count": null,
   "metadata": {},
   "outputs": [],
   "source": [
    "addprocs([(\"root@10.4.1.4:6666\", 1)], tunnel=true)"
   ]
  },
  {
   "cell_type": "code",
   "execution_count": null,
   "metadata": {},
   "outputs": [],
   "source": [
    "sum = 0\n",
    "tic()\n",
    "for i in 1:200000000\n",
    "    sum += i\n",
    "end\n",
    "toc()\n",
    "println(sum)"
   ]
  },
  {
   "cell_type": "code",
   "execution_count": null,
   "metadata": {},
   "outputs": [],
   "source": [
    "tic()\n",
    "sum = @parallel (+) for i = 1:200000000\n",
    "    Int(i)\n",
    "end\n",
    "toc()\n",
    "println(sum)"
   ]
  },
  {
   "cell_type": "markdown",
   "metadata": {},
   "source": [
    "###### (daaaaaaaaaaamn!)"
   ]
  }
 ],
 "metadata": {
  "kernelspec": {
   "display_name": "Julia 0.6.0",
   "language": "julia",
   "name": "julia-0.6"
  },
  "language_info": {
   "file_extension": ".jl",
   "mimetype": "application/julia",
   "name": "julia",
   "version": "0.6.0"
  }
 },
 "nbformat": 4,
 "nbformat_minor": 2
}
