{
 "cells": [
  {
   "cell_type": "code",
   "execution_count": null,
   "metadata": {},
   "outputs": [],
   "source": [
    "using Base.MathConstants\n",
    "α = 0.0072973525664"
   ]
  },
  {
   "cell_type": "code",
   "execution_count": null,
   "metadata": {},
   "outputs": [],
   "source": [
    "using QuadGK\n",
    "∫ = quadgk; ∑ = sum\n",
    "\n",
    "Ч = ∑(2.0^-j * (1.0 - ∫(log2, 1/j, j)[1]) for j in 1:1000) / 2 \n",
    "1 / (π * Ч / γ)"
   ]
  },
  {
   "cell_type": "code",
   "execution_count": null,
   "metadata": {},
   "outputs": [],
   "source": [
    "f(x) = try factorial(x) catch e return Inf end\n",
    "function s(n, k)\n",
    "    (n == k == 0)        ? (return 1)     :\n",
    "    (n == 0) || (k == 0) ? (return 0)     :\n",
    "    (n == k)             ? (return 1)     :\n",
    "    (k == 1)             ? f(n-1) :\n",
    "    return (n-1) * s(n-1,k) + s(n-1,k-1)\n",
    "end\n",
    "k(j) = (j <= 0) ? (return 0) : (return 2^(k(j-1)))\n",
    "B(n, k) = s(n, k) / binomial(n-1, k)\n",
    "Ж(n, j) = 2.0^-2n * B(n, k(j))\n",
    "    \n",
    "n = 18\n",
    "j = 2\n",
    "1 / Ж(n, j)"
   ]
  },
  {
   "cell_type": "code",
   "execution_count": null,
   "metadata": {},
   "outputs": [],
   "source": [
    "df = DataFrame([1/Ж(BigInt(n), 4) for n in 1:40])"
   ]
  }
 ],
 "metadata": {
  "kernelspec": {
   "display_name": "Julia 0.7.0",
   "language": "julia",
   "name": "julia-0.7"
  },
  "language_info": {
   "file_extension": ".jl",
   "mimetype": "application/julia",
   "name": "julia",
   "version": "0.7.0"
  }
 },
 "nbformat": 4,
 "nbformat_minor": 2
}
