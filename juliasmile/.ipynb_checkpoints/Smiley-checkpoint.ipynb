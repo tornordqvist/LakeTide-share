{
 "cells": [
  {
   "cell_type": "markdown",
   "metadata": {},
   "source": [
    "# The Power of Julia"
   ]
  },
  {
   "cell_type": "code",
   "execution_count": 1,
   "metadata": {},
   "outputs": [
    {
     "data": {
      "text/plain": [
       ":D"
      ]
     },
     "execution_count": 1,
     "metadata": {},
     "output_type": "execute_result"
    }
   ],
   "source": [
    "struct ツ end                    ;O  = '\\U44'\n",
    "struct ⎺ end                     ;P  = O\n",
    "Base.:/(::Symbol, ::DataType)        = Symbol(O)\n",
    "Base.:*(::Symbol, ::Function) =  :P\n",
    "Base.:\\(::DataType, ::Symbol) =  :C\n",
    "ˍ(::DataType)                 =  :|\n",
    "\n",
    "macro\n",
    "     X(\n",
    "        :)\n",
    "           :(\n",
    "              ⎺\\ˍ(ツ)ˍ/⎺\n",
    ") end\n",
    "\n",
    "@X(\"we good?\")"
   ]
  }
 ],
 "metadata": {
  "@webio": {
   "lastCommId": "839a3329ecc248108438070c2addcd99",
   "lastKernelId": "1606f2da-60e5-4c2f-9957-fe4d90203f9c"
  },
  "kernelspec": {
   "display_name": "Julia 1.0.1",
   "language": "julia",
   "name": "julia-1.0"
  },
  "language_info": {
   "file_extension": ".jl",
   "mimetype": "application/julia",
   "name": "julia",
   "version": "1.0.1"
  }
 },
 "nbformat": 4,
 "nbformat_minor": 2
}
