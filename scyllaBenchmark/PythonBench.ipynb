{
 "cells": [
  {
   "cell_type": "markdown",
   "metadata": {},
   "source": [
    "# Simple read and write"
   ]
  },
  {
   "cell_type": "code",
   "execution_count": 91,
   "metadata": {
    "collapsed": true
   },
   "outputs": [],
   "source": [
    "from cassandra.cluster import Cluster\n",
    "import cassandra.query as q\n",
    "import time\n",
    "from datetime import datetime\n",
    "time_ = datetime.strptime('2017-08-20 16:31:32.123', '%Y-%m-%d %H:%M:%S.%f')\n",
    "\n",
    "cluster = Cluster(['192.168.1.149', '192.168.1.115'])\n",
    "session = cluster.connect('test')"
   ]
  },
  {
   "cell_type": "markdown",
   "metadata": {},
   "source": [
    "#### Simple read query"
   ]
  },
  {
   "cell_type": "code",
   "execution_count": 35,
   "metadata": {},
   "outputs": [
    {
     "name": "stdout",
     "output_type": "stream",
     "text": [
      "0.082053899765\n"
     ]
    }
   ],
   "source": [
    "start = time.time()\n",
    "rows = session.execute('select * from data.training_gpeh limit 1000')\n",
    "end = time.time()\n",
    "print(end-start)"
   ]
  },
  {
   "cell_type": "markdown",
   "metadata": {},
   "source": [
    "#### Write 100k random rows to table"
   ]
  },
  {
   "cell_type": "code",
   "execution_count": 89,
   "metadata": {},
   "outputs": [
    {
     "name": "stdout",
     "output_type": "stream",
     "text": [
      "99\n",
      "113.681812048\n",
      "1.1483011318\n"
     ]
    }
   ],
   "source": [
    "def single_write(numOfWrites):\n",
    "    for i in xrange(0,numOfWrites):\n",
    "        imsi = str(i)\n",
    "        session.execute(\n",
    "        \"\"\"\n",
    "        INSERT INTO test.training_gpeh (imsi, ts, ev, plifls, plt1, t1id, t1rnc, t2rnc, t3id, t3rnc, t4id, t4rnc) \n",
    "        VALUES(%s,%s,%s,%s,%s,%s,%s,%s,%s,%s,%s,%s)\n",
    "        \"\"\",\n",
    "        (imsi, time_, 1,1,1,1,1,1,1,1,1,1)\n",
    "    )\n",
    "\n",
    "numOfWrites = 100000\n",
    "start = time.time()\n",
    "single_write(numOfWrites)\n",
    "end = time.time()\n",
    "avg_time = (end-start)/i\n",
    "\n",
    "print(i)\n",
    "print(end-start)\n",
    "print(avg_time)"
   ]
  },
  {
   "cell_type": "markdown",
   "metadata": {},
   "source": [
    "#### In this case the prepared statement gives no time gains"
   ]
  },
  {
   "cell_type": "code",
   "execution_count": 93,
   "metadata": {},
   "outputs": [
    {
     "name": "stdout",
     "output_type": "stream",
     "text": [
      "99999\n",
      "111.352442026\n",
      "0.00111353555562\n"
     ]
    }
   ],
   "source": [
    "query = \"INSERT INTO test.training_gpeh (imsi, ts, ev, plifls, plt1, t1id, t1rnc, t2rnc, t3id, t3rnc, t4id, t4rnc) VALUES (?,?,?,?,?,?,?,?,?,?,?,?)\"\n",
    "prepare = session.prepare(query)\n",
    "start = time.time()\n",
    "for i in xrange(0, numOfWrites):\n",
    "    imsi = str(i)\n",
    "    bound = prepare.bind((imsi, time_, 1,1,1,1,1,1,1,1,1,1))\n",
    "    session.execute(bound)\n",
    "end = time.time()\n",
    "avg_time = (end-start)/i\n",
    "print(i)\n",
    "print(end-start)\n",
    "print(avg_time)"
   ]
  },
  {
   "cell_type": "markdown",
   "metadata": {},
   "source": [
    "# Batch statement"
   ]
  },
  {
   "cell_type": "code",
   "execution_count": 84,
   "metadata": {},
   "outputs": [
    {
     "name": "stdout",
     "output_type": "stream",
     "text": [
      "99\n",
      "11.9441959858\n",
      "0.120648444301\n"
     ]
    }
   ],
   "source": [
    "def batch_add(batchSize,j):\n",
    "    batch = q.BatchStatement() \n",
    "    for i in xrange(0,batchSize):\n",
    "        imsi = str(1000*j + i)\n",
    "        batch.add(data, (imsi, time_, 1,1,1,1,1,1,1,1,1,1))\n",
    "    session.execute(batch)\n",
    "    \n",
    "query = \"INSERT INTO test.training_gpeh (imsi, ts, ev, plifls, plt1, t1id, t1rnc, t2rnc, t3id, t3rnc, t4id, t4rnc) VALUES(?,?,?,?,?,?,?,?,?,?,?,?)\"\n",
    "data = session.prepare(query)\n",
    "batch = q.BatchStatement() \n",
    "batchSize = 1000\n",
    "\n",
    "start = time.time()\n",
    "for i in xrange(0,100):\n",
    "    batch_add(batchSize, i)\n",
    "end = time.time()\n",
    "avg_time = (end-start)/i\n",
    "\n",
    "print(i)\n",
    "print(end-start)\n",
    "print(avg_time)"
   ]
  }
 ],
 "metadata": {
  "kernelspec": {
   "display_name": "Python 2",
   "language": "python",
   "name": "python2"
  },
  "language_info": {
   "codemirror_mode": {
    "name": "ipython",
    "version": 2
   },
   "file_extension": ".py",
   "mimetype": "text/x-python",
   "name": "python",
   "nbconvert_exporter": "python",
   "pygments_lexer": "ipython2",
   "version": "2.7.5"
  }
 },
 "nbformat": 4,
 "nbformat_minor": 2
}
