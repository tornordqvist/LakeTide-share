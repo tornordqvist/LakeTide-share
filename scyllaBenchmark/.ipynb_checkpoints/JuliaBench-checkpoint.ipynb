{
 "cells": [
  {
   "cell_type": "markdown",
   "metadata": {},
   "source": [
    "# Julia - one write per request"
   ]
  },
  {
   "cell_type": "code",
   "execution_count": 53,
   "metadata": {},
   "outputs": [
    {
     "data": {
      "text/plain": [
       "PyObject <cassandra.cluster.ResultSet object at 0x7fdc4c3cf290>"
      ]
     },
     "execution_count": 53,
     "metadata": {},
     "output_type": "execute_result"
    }
   ],
   "source": [
    "using PyCall\n",
    "@pyimport cassandra.cluster as c\n",
    "@pyimport cassandra.query as q\n",
    "\n",
    "cluster = c.Cluster([\"192.168.1.149\", \"192.168.1.115\"])\n",
    "session = cluster[:connect]()\n",
    "session[:execute](\"use test\")"
   ]
  },
  {
   "cell_type": "code",
   "execution_count": 73,
   "metadata": {},
   "outputs": [
    {
     "name": "stdout",
     "output_type": "stream",
     "text": [
      "elapsed time: 235.373968555 seconds\n"
     ]
    },
    {
     "data": {
      "text/plain": [
       "235.373968555"
      ]
     },
     "execution_count": 73,
     "metadata": {},
     "output_type": "execute_result"
    }
   ],
   "source": [
    "a = now()\n",
    "tic()\n",
    "for i in 1:100000\n",
    "    session[:execute](\n",
    "        \"\"\"\n",
    "        INSERT INTO test.training_gpeh (imsi, ts, ev, plifls, plt1, t1id, t1rnc, t2rnc, t3id, t3rnc, t4id, t4rnc) \n",
    "        VALUES(%s,%s,%s,%s,%s,%s,%s,%s,%s,%s,%s,%s)\n",
    "        \"\"\",\n",
    "        (string(i), a, 1, 2, 3, 4, 5, 6, 7, 8, 9, 10))\n",
    "end\n",
    "toc()"
   ]
  },
  {
   "cell_type": "code",
   "execution_count": 58,
   "metadata": {},
   "outputs": [
    {
     "name": "stdout",
     "output_type": "stream",
     "text": [
      "elapsed time: 0.094388408 seconds\n"
     ]
    },
    {
     "data": {
      "text/plain": [
       "0.094388408"
      ]
     },
     "execution_count": 58,
     "metadata": {},
     "output_type": "execute_result"
    }
   ],
   "source": [
    "tic()\n",
    "rows = session[:execute](\"select * from data. limit 100000\")\n",
    "toc()"
   ]
  },
  {
   "cell_type": "markdown",
   "metadata": {},
   "source": [
    "# Julia - 1000 writes per request"
   ]
  },
  {
   "cell_type": "code",
   "execution_count": 76,
   "metadata": {},
   "outputs": [
    {
     "ename": "LoadError",
     "evalue": "\u001b[91mInterruptException:\u001b[39m",
     "output_type": "error",
     "traceback": [
      "\u001b[91mInterruptException:\u001b[39m",
      "",
      "Stacktrace:",
      " [1] \u001b[1m#_pycall#66\u001b[22m\u001b[22m\u001b[1m(\u001b[22m\u001b[22m::Array{Any,1}, ::Function, ::PyCall.PyObject, ::PyCall.PyObject, ::Vararg{PyCall.PyObject,N} where N\u001b[1m)\u001b[22m\u001b[22m at \u001b[1m/root/.julia/v0.6/PyCall/src/PyCall.jl:606\u001b[22m\u001b[22m",
      " [2] \u001b[1m_pycall\u001b[22m\u001b[22m\u001b[1m(\u001b[22m\u001b[22m::PyCall.PyObject, ::PyCall.PyObject, ::Vararg{PyCall.PyObject,N} where N\u001b[1m)\u001b[22m\u001b[22m at \u001b[1m/root/.julia/v0.6/PyCall/src/PyCall.jl:584\u001b[22m\u001b[22m",
      " [3] \u001b[1m#pycall#70\u001b[22m\u001b[22m\u001b[1m(\u001b[22m\u001b[22m::Array{Any,1}, ::Function, ::PyCall.PyObject, ::Type{PyCall.PyAny}, ::PyCall.PyObject, ::Vararg{PyCall.PyObject,N} where N\u001b[1m)\u001b[22m\u001b[22m at \u001b[1m/root/.julia/v0.6/PyCall/src/PyCall.jl:618\u001b[22m\u001b[22m",
      " [4] \u001b[1mpycall\u001b[22m\u001b[22m\u001b[1m(\u001b[22m\u001b[22m::PyCall.PyObject, ::Type{PyCall.PyAny}, ::PyCall.PyObject, ::Vararg{Any,N} where N\u001b[1m)\u001b[22m\u001b[22m at \u001b[1m/root/.julia/v0.6/PyCall/src/PyCall.jl:618\u001b[22m\u001b[22m",
      " [5] \u001b[1m#call#71\u001b[22m\u001b[22m\u001b[1m(\u001b[22m\u001b[22m::Array{Any,1}, ::PyCall.PyObject, ::PyCall.PyObject, ::Vararg{PyCall.PyObject,N} where N\u001b[1m)\u001b[22m\u001b[22m at \u001b[1m/root/.julia/v0.6/PyCall/src/PyCall.jl:621\u001b[22m\u001b[22m",
      " [6] \u001b[1m(::PyCall.PyObject)\u001b[22m\u001b[22m\u001b[1m(\u001b[22m\u001b[22m::PyCall.PyObject, ::Vararg{Any,N} where N\u001b[1m)\u001b[22m\u001b[22m at \u001b[1m/root/.julia/v0.6/PyCall/src/PyCall.jl:621\u001b[22m\u001b[22m",
      " [7] \u001b[1mmacro expansion\u001b[22m\u001b[22m at \u001b[1m./In[76]:12\u001b[22m\u001b[22m [inlined]",
      " [8] \u001b[1manonymous\u001b[22m\u001b[22m at \u001b[1m./<missing>:?\u001b[22m\u001b[22m"
     ]
    }
   ],
   "source": [
    "query = \"INSERT INTO test.training_gpeh (imsi, ts, ev, plifls, plt1, t1id, t1rnc, t2rnc, t3id, t3rnc, t4id, t4rnc) VALUES(?,?,?,?,?,?,?,?,?,?,?,?)\"\n",
    "data = session[:prepare](query)\n",
    "batch = q.BatchStatement()\n",
    "x = 0\n",
    "a = now()\n",
    "tic()\n",
    "for j in 1:100\n",
    "    for i in 1:1000\n",
    "        x =+ 1\n",
    "        batch[:add](data, (string(x), a, 1, 2, 3, 4, 5, 6, 7, 8, 9, 10))\n",
    "    end\n",
    "    session[:execute](batch)\n",
    "end\n",
    "toc()"
   ]
  },
  {
   "cell_type": "code",
   "execution_count": null,
   "metadata": {
    "collapsed": true
   },
   "outputs": [],
   "source": []
  }
 ],
 "metadata": {
  "kernelspec": {
   "display_name": "Julia 0.6.0",
   "language": "julia",
   "name": "julia-0.6"
  },
  "language_info": {
   "file_extension": ".jl",
   "mimetype": "application/julia",
   "name": "julia",
   "version": "0.6.0"
  }
 },
 "nbformat": 4,
 "nbformat_minor": 2
}
