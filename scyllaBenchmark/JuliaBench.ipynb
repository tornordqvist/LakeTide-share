{
 "cells": [
  {
   "cell_type": "markdown",
   "metadata": {},
   "source": [
    "# Julia - one write per request"
   ]
  },
  {
   "cell_type": "code",
   "execution_count": 82,
   "metadata": {},
   "outputs": [
    {
     "data": {
      "text/plain": [
       "PyObject <cassandra.cluster.ResultSet object at 0xfc3da50>"
      ]
     },
     "execution_count": 82,
     "metadata": {},
     "output_type": "execute_result"
    }
   ],
   "source": [
    "using PyCall\n",
    "@pyimport cassandra.cluster as c\n",
    "@pyimport cassandra.query as q\n",
    "\n",
    "cluster = c.Cluster([\"192.168.1.149\", \"192.168.1.115\"])\n",
    "session = cluster[:connect]()\n",
    "session[:execute](\"use test\")"
   ]
  },
  {
   "cell_type": "code",
   "execution_count": 73,
   "metadata": {},
   "outputs": [
    {
     "name": "stdout",
     "output_type": "stream",
     "text": [
      "elapsed time: 235.373968555 seconds\n"
     ]
    },
    {
     "data": {
      "text/plain": [
       "235.373968555"
      ]
     },
     "execution_count": 73,
     "metadata": {},
     "output_type": "execute_result"
    }
   ],
   "source": [
    "a = now()\n",
    "tic()\n",
    "for i in 1:100000\n",
    "    session[:execute](\n",
    "        \"\"\"\n",
    "        INSERT INTO test.training_gpeh (imsi, ts, ev, plifls, plt1, t1id, t1rnc, t2rnc, t3id, t3rnc, t4id, t4rnc) \n",
    "        VALUES(%s,%s,%s,%s,%s,%s,%s,%s,%s,%s,%s,%s)\n",
    "        \"\"\",\n",
    "        (string(i), a, 1, 2, 3, 4, 5, 6, 7, 8, 9, 10))\n",
    "end\n",
    "toc()"
   ]
  },
  {
   "cell_type": "code",
   "execution_count": 58,
   "metadata": {},
   "outputs": [
    {
     "name": "stdout",
     "output_type": "stream",
     "text": [
      "elapsed time: 0.094388408 seconds\n"
     ]
    },
    {
     "data": {
      "text/plain": [
       "0.094388408"
      ]
     },
     "execution_count": 58,
     "metadata": {},
     "output_type": "execute_result"
    }
   ],
   "source": [
    "tic()\n",
    "rows = session[:execute](\"select * from data. limit 100000\")\n",
    "toc()"
   ]
  },
  {
   "cell_type": "markdown",
   "metadata": {},
   "source": [
    "# Julia - 1000 writes per request"
   ]
  },
  {
   "cell_type": "code",
   "execution_count": 83,
   "metadata": {},
   "outputs": [
    {
     "name": "stdout",
     "output_type": "stream",
     "text": [
      "elapsed time: 25.727262672 seconds\n"
     ]
    },
    {
     "data": {
      "text/plain": [
       "25.727262672"
      ]
     },
     "execution_count": 83,
     "metadata": {},
     "output_type": "execute_result"
    }
   ],
   "source": [
    "query = \"INSERT INTO test.training_gpeh (imsi, ts, ev, plifls, plt1, t1id, t1rnc, t2rnc, t3id, t3rnc, t4id, t4rnc) VALUES(?,?,?,?,?,?,?,?,?,?,?,?)\"\n",
    "data = session[:prepare](query)\n",
    "batch = q.BatchStatement()\n",
    "x = 0\n",
    "a = now()\n",
    "tic()\n",
    "for j in 1:100\n",
    "    batch = q.BatchStatement()\n",
    "    for i in 1:1000\n",
    "        x += 1\n",
    "        batch[:add](data, (string(x), a, 1, 2, 3, 4, 5, 6, 7, 8, 9, 10))\n",
    "    end\n",
    "    session[:execute](batch)\n",
    "end\n",
    "toc()"
   ]
  }
 ],
 "metadata": {
  "kernelspec": {
   "display_name": "Julia 0.6.0",
   "language": "julia",
   "name": "julia-0.6"
  },
  "language_info": {
   "file_extension": ".jl",
   "mimetype": "application/julia",
   "name": "julia",
   "version": "0.6.0"
  }
 },
 "nbformat": 4,
 "nbformat_minor": 2
}
